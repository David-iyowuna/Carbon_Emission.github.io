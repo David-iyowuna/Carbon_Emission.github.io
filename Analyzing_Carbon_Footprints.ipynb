{
 "cells": [
  {
   "cell_type": "markdown",
   "id": "5d0a6452",
   "metadata": {},
   "source": [
    "# Analyzing Carbon Footprints in SQL"
   ]
  },
  {
   "cell_type": "markdown",
   "id": "5350ea27",
   "metadata": {},
   "source": [
    "<img src=\"carbon_footprints.jpeg\" align=\"center\" width=\"600\" height=\"700\" />\n",
    "     "
   ]
  },
  {
   "cell_type": "markdown",
   "id": "800fd90d",
   "metadata": {},
   "source": [
    "### Overview\n",
    "Carbon dioxide (CO2) is a colourless, odourless and non-poisonous gas formed by combustion of carbon and in the respiration of living organisms and is considered a greenhouse gas.\n",
    "\n",
    "CO2 emissions from the burning of fossil fuels are the primary cause of global warming which happens to be one of the biggest threats facing humanity in this day and age. \n",
    "\n",
    "Although there are plenty of other emissions that are emitted on this earth, including Methane, nitrous oxide, and CFCs, none compare to the emission of CO2, and we as humans are mostly to blame for this. \n",
    "\n",
    "For this analysis we will be focosing on CO2 Emissions and its effect on the world we live in as well as some key factors and stats that may play a role in the emission of CO2 globally.\n",
    "\n",
    "The world as we know it, is becoming more modernized by the year, and with this becoming all the more POLLUTED.\n",
    "\n",
    "Product carbon footprints (PCFs) are increasingly important in both business and consumer sustainability decisions.\n",
    " \n",
    "According to https://www.nature.com More than 75% of global emissions are attributed to items, including food, footwear, \n",
    "and appliances.\n",
    " \n",
    "This dataset contains the product carbon footprints (PCFs) of several companies and is freely accessible on nature.com. \n",
    " \n",
    "The PCFs are the CO2 emissions from a certain product that can be attributed to greenhouse gas emissions (carbon dioxide equivalent)"
   ]
  },
  {
   "cell_type": "raw",
   "id": "f27f1f3e",
   "metadata": {},
   "source": [
    "According to UN Official Data:\n",
    "\n",
    "1. Over 3 BILLION PEOPLE of the world’s 8 Billion people are affected by degrading ecosystems \n",
    "2. Pollution is responsible for some 9 MILLION premature deaths each year\n",
    "3. Over 1 million plant and animal species risk extinction\n",
    "4. 200 million people could be displaced EACH  YEAR by climate disruption by 2050."
   ]
  },
  {
   "cell_type": "markdown",
   "id": "ebd64802",
   "metadata": {},
   "source": [
    "# Our Database"
   ]
  },
  {
   "cell_type": "markdown",
   "id": "d1a3a15b",
   "metadata": {},
   "source": [
    "Our database contains one table, which looks at PCFs by product \n",
    "as well as the stage of production these emissions occured in.\n",
    "\n"
   ]
  },
  {
   "cell_type": "markdown",
   "id": "62909f2a",
   "metadata": {},
   "source": [
    "field\tdata_type\n",
    "id --\tVARCHAR\n",
    "year -- INT\n",
    "product_name --\tVARCHAR\n",
    "company --\tVARCHAR\n",
    "country --\tVARCHAR\n",
    "industry_group --\tVARCHAR\n",
    "weight_kg --    NUMERIC\n",
    "carbon_footprint_pcf --\tNUMERIC\n",
    "upstream_percent_total_pcf --\tVARCHAR\n",
    "operations_percent_total_pcf --\tVARCHAR\n",
    "downstream_percent_total_pcf --\tVARCHAR"
   ]
  },
  {
   "cell_type": "code",
   "execution_count": 67,
   "id": "2cf834cf",
   "metadata": {},
   "outputs": [
    {
     "name": "stdout",
     "output_type": "stream",
     "text": [
      "<mysql.connector.connection_cext.CMySQLConnection object at 0x0000028AB9B0F820>\n"
     ]
    }
   ],
   "source": [
    "##import mysql.connector\n",
    "## Connecting to the database\n",
    "\n",
    "## importing 'mysql.connector' as mysql for convenient\n",
    "import mysql.connector as mysql\n",
    "# importing pandas \n",
    "import pandas as pd\n",
    "\n",
    "## connecting to the database using 'connect()' method\n",
    "## it takes 3 required parameters 'host', 'user', 'passwd'\n",
    "\n",
    "db = mysql.connect(\n",
    "    host = \"localhost\",   # your host, usually localhost\n",
    "    user = \"root\",        # your username\n",
    "    passwd = \"*****\"  # name of the data base\n",
    ")\n",
    "\n",
    "print(db) # it will print a connection object if everything is fine\n"
   ]
  },
  {
   "cell_type": "code",
   "execution_count": 68,
   "id": "9f2dd2d8",
   "metadata": {},
   "outputs": [
    {
     "name": "stdout",
     "output_type": "stream",
     "text": [
      "('carbon_emission',)\n",
      "('emissions',)\n",
      "('enappsys',)\n",
      "('information_schema',)\n",
      "('mysql',)\n",
      "('performance_schema',)\n",
      "('space_mission',)\n",
      "('sql_tutorial',)\n",
      "('sys',)\n"
     ]
    }
   ],
   "source": [
    "# You must create a Cursor object. It will let you execute all the queries you need\n",
    "cursor = db.cursor()\n",
    "\n",
    "## executing the statement using 'execute()' method\n",
    "cursor.execute(\"SHOW DATABASES\")\n",
    "\n",
    "## 'fetchall()' method fetches all the rows from the last executed statement\n",
    "databases = cursor.fetchall()   ## it returns a list of all databases present in mysql\n",
    "\n",
    "## printing the list of databases\n",
    "#print(databases)\n",
    "\n",
    "## showing one by one database\n",
    "for database in databases:\n",
    "    print(database)\n"
   ]
  },
  {
   "cell_type": "code",
   "execution_count": 79,
   "id": "8a9100c6",
   "metadata": {},
   "outputs": [
    {
     "name": "stdout",
     "output_type": "stream",
     "text": [
      "('carbon_em',)\n"
     ]
    }
   ],
   "source": [
    "# To connect directly to the Database i want\n",
    "db = mysql.connect(\n",
    "    host = \"localhost\",\n",
    "    user = \"root\",\n",
    "    passwd = \"65Sangana\",\n",
    "    database = \"carbon_emission\"  ## include this\n",
    ")\n",
    "\n",
    "cursor = db.cursor()\n",
    "# check the available tables in carbon_emission databasse\n",
    "query = 'show tables'\n",
    "cursor.execute(query)\n",
    "\n",
    "# fetch all the tables\n",
    "tables = cursor.fetchall()\n",
    "\n",
    "# iterate through the tables\n",
    "for table in tables:\n",
    "    print(table)"
   ]
  },
  {
   "cell_type": "code",
   "execution_count": 80,
   "id": "c6f23a20",
   "metadata": {},
   "outputs": [
    {
     "data": {
      "text/html": [
       "<div>\n",
       "<style scoped>\n",
       "    .dataframe tbody tr th:only-of-type {\n",
       "        vertical-align: middle;\n",
       "    }\n",
       "\n",
       "    .dataframe tbody tr th {\n",
       "        vertical-align: top;\n",
       "    }\n",
       "\n",
       "    .dataframe thead th {\n",
       "        text-align: right;\n",
       "    }\n",
       "</style>\n",
       "<table border=\"1\" class=\"dataframe\">\n",
       "  <thead>\n",
       "    <tr style=\"text-align: right;\">\n",
       "      <th></th>\n",
       "      <th>ID</th>\n",
       "      <th>Year</th>\n",
       "      <th>Product_name</th>\n",
       "      <th>Company</th>\n",
       "      <th>Country</th>\n",
       "      <th>Industry_Group</th>\n",
       "      <th>weight_kg</th>\n",
       "      <th>carbon_footprint_PCF</th>\n",
       "      <th>Upstream_percent_total_pcf</th>\n",
       "      <th>Operations_percent_total_pcf</th>\n",
       "      <th>downstream_percent_total_pcf</th>\n",
       "    </tr>\n",
       "  </thead>\n",
       "  <tbody>\n",
       "    <tr>\n",
       "      <th>0</th>\n",
       "      <td>10056-1-2014</td>\n",
       "      <td>2014</td>\n",
       "      <td>Frosted Flakes(R) Cereal</td>\n",
       "      <td>Kellogg Company</td>\n",
       "      <td>USA</td>\n",
       "      <td>Food, Beverage &amp; Tobacco</td>\n",
       "      <td>1.0</td>\n",
       "      <td>2.0</td>\n",
       "      <td>57.50%</td>\n",
       "      <td>30.00%</td>\n",
       "      <td>12.50%</td>\n",
       "    </tr>\n",
       "    <tr>\n",
       "      <th>1</th>\n",
       "      <td>10056-1-2015</td>\n",
       "      <td>2015</td>\n",
       "      <td>Frosted Flakes, 23 oz, produced in Lancaster, ...</td>\n",
       "      <td>Kellogg Company</td>\n",
       "      <td>USA</td>\n",
       "      <td>Food &amp; Beverage Processing</td>\n",
       "      <td>1.0</td>\n",
       "      <td>2.0</td>\n",
       "      <td>57.50%</td>\n",
       "      <td>30.00%</td>\n",
       "      <td>12.50%</td>\n",
       "    </tr>\n",
       "    <tr>\n",
       "      <th>2</th>\n",
       "      <td>10222-1-2013</td>\n",
       "      <td>2013</td>\n",
       "      <td>Office Chair</td>\n",
       "      <td>KNOLL INC</td>\n",
       "      <td>USA</td>\n",
       "      <td>Capital Goods</td>\n",
       "      <td>21.0</td>\n",
       "      <td>73.0</td>\n",
       "      <td>80.63%</td>\n",
       "      <td>17.36%</td>\n",
       "      <td>2.01%</td>\n",
       "    </tr>\n",
       "    <tr>\n",
       "      <th>3</th>\n",
       "      <td>10261-1-2017</td>\n",
       "      <td>2017</td>\n",
       "      <td>Multifunction Printers</td>\n",
       "      <td>Konica Minolta, Inc.</td>\n",
       "      <td>Japan</td>\n",
       "      <td>Technology Hardware &amp; Equipment</td>\n",
       "      <td>110.0</td>\n",
       "      <td>1488.0</td>\n",
       "      <td>30.65%</td>\n",
       "      <td>5.51%</td>\n",
       "      <td>63.84%</td>\n",
       "    </tr>\n",
       "    <tr>\n",
       "      <th>4</th>\n",
       "      <td>10261-2-2017</td>\n",
       "      <td>2017</td>\n",
       "      <td>Multifunction Printers</td>\n",
       "      <td>Konica Minolta, Inc.</td>\n",
       "      <td>Japan</td>\n",
       "      <td>Technology Hardware &amp; Equipment</td>\n",
       "      <td>110.0</td>\n",
       "      <td>1818.0</td>\n",
       "      <td>25.08%</td>\n",
       "      <td>4.51%</td>\n",
       "      <td>70.41%</td>\n",
       "    </tr>\n",
       "  </tbody>\n",
       "</table>\n",
       "</div>"
      ],
      "text/plain": [
       "             ID  Year                                       Product_name  \\\n",
       "0  10056-1-2014  2014                           Frosted Flakes(R) Cereal   \n",
       "1  10056-1-2015  2015  Frosted Flakes, 23 oz, produced in Lancaster, ...   \n",
       "2  10222-1-2013  2013                                       Office Chair   \n",
       "3  10261-1-2017  2017                             Multifunction Printers   \n",
       "4  10261-2-2017  2017                             Multifunction Printers   \n",
       "\n",
       "                Company Country                   Industry_Group  weight_kg  \\\n",
       "0       Kellogg Company     USA         Food, Beverage & Tobacco        1.0   \n",
       "1       Kellogg Company     USA       Food & Beverage Processing        1.0   \n",
       "2             KNOLL INC     USA                    Capital Goods       21.0   \n",
       "3  Konica Minolta, Inc.   Japan  Technology Hardware & Equipment      110.0   \n",
       "4  Konica Minolta, Inc.   Japan  Technology Hardware & Equipment      110.0   \n",
       "\n",
       "   carbon_footprint_PCF Upstream_percent_total_pcf  \\\n",
       "0                   2.0                     57.50%   \n",
       "1                   2.0                     57.50%   \n",
       "2                  73.0                     80.63%   \n",
       "3                1488.0                     30.65%   \n",
       "4                1818.0                     25.08%   \n",
       "\n",
       "  Operations_percent_total_pcf downstream_percent_total_pcf  \n",
       "0                       30.00%                       12.50%  \n",
       "1                       30.00%                       12.50%  \n",
       "2                       17.36%                        2.01%  \n",
       "3                        5.51%                       63.84%  \n",
       "4                        4.51%                       70.41%  "
      ]
     },
     "execution_count": 80,
     "metadata": {},
     "output_type": "execute_result"
    }
   ],
   "source": [
    "# view the whole data in the table \n",
    "query = \"SELECT * FROM carbon_em\" # sql query\n",
    "\n",
    "cursor.execute(query)\n",
    "\n",
    "records = cursor.fetchall()\n",
    "\n",
    "# Put it all to a data frame\n",
    "df = pd.read_sql(query, con = db)\n",
    "df.head()\n"
   ]
  },
  {
   "cell_type": "code",
   "execution_count": 81,
   "id": "a27ab041",
   "metadata": {},
   "outputs": [
    {
     "name": "stdout",
     "output_type": "stream",
     "text": [
      "('USA',)\n",
      "('Japan',)\n",
      "('France',)\n",
      "('South Korea',)\n",
      "('Switzerland',)\n",
      "('United Kingdom',)\n",
      "('Brazil',)\n",
      "('Taiwan',)\n",
      "('Spain',)\n",
      "('Finland',)\n",
      "('China',)\n",
      "('Canada',)\n",
      "('South Africa',)\n",
      "('Ireland',)\n",
      "('Belgium',)\n",
      "('India',)\n",
      "('Sweden',)\n",
      "('Germany',)\n",
      "('Australia',)\n",
      "('Chile',)\n",
      "('Lithuania',)\n",
      "('Italy',)\n",
      "('Netherlands',)\n",
      "('Colombia',)\n",
      "('Indonesia',)\n",
      "('Malaysia',)\n",
      "('Greece',)\n",
      "('Luxembourg',)\n"
     ]
    }
   ],
   "source": [
    "# Viewing all distinct countries\n",
    "query = \"SELECT DISTINCT(Country) FROM carbon_em\"\n",
    "cursor.execute(query)\n",
    "\n",
    "countries = cursor.fetchall()\n",
    "\n",
    "for country in countries:\n",
    "    print(country)"
   ]
  },
  {
   "cell_type": "code",
   "execution_count": 82,
   "id": "7f0030b2",
   "metadata": {},
   "outputs": [
    {
     "name": "stdout",
     "output_type": "stream",
     "text": [
      "<class 'pandas.core.frame.DataFrame'>\n",
      "RangeIndex: 838 entries, 0 to 837\n",
      "Data columns (total 11 columns):\n",
      " #   Column                        Non-Null Count  Dtype  \n",
      "---  ------                        --------------  -----  \n",
      " 0   ID                            838 non-null    object \n",
      " 1   Year                          838 non-null    int64  \n",
      " 2   Product_name                  838 non-null    object \n",
      " 3   Company                       838 non-null    object \n",
      " 4   Country                       838 non-null    object \n",
      " 5   Industry_Group                838 non-null    object \n",
      " 6   weight_kg                     838 non-null    float64\n",
      " 7   carbon_footprint_PCF          838 non-null    float64\n",
      " 8   Upstream_percent_total_pcf    838 non-null    object \n",
      " 9   Operations_percent_total_pcf  838 non-null    object \n",
      " 10  downstream_percent_total_pcf  838 non-null    object \n",
      "dtypes: float64(2), int64(1), object(8)\n",
      "memory usage: 72.1+ KB\n"
     ]
    }
   ],
   "source": [
    "df.info()"
   ]
  },
  {
   "cell_type": "code",
   "execution_count": 83,
   "id": "a53cbfff",
   "metadata": {},
   "outputs": [
    {
     "name": "stdout",
     "output_type": "stream",
     "text": [
      "('Kellogg Company',)\n",
      "('KNOLL INC',)\n",
      "('Konica Minolta, Inc.',)\n",
      "('Kuraray Co., Ltd.',)\n",
      "('Lafarge S.A.',)\n",
      "('Levi Strauss & Co.',)\n",
      "('Lexmark International, Inc.',)\n",
      "('LG Chem Ltd',)\n",
      "('LG Electronics',)\n",
      "('Logitech International SA',)\n",
      "('Associated British Foods',)\n",
      "('MAGOTTEAUX',)\n",
      "('MediaTek',)\n",
      "('Autodesk, Inc.',)\n",
      "('Miquel Y Costas',)\n",
      "('MITIE Group',)\n",
      "('Mitsubishi Gas Chemical Company, Inc.',)\n",
      "('Mitsui Mining & Smelting Co., Ltd.',)\n",
      "('Molson Coors Brewing Company',)\n",
      "('NEC Corporation',)\n",
      "('Nestlé',)\n",
      "('Nokia Group',)\n",
      "('OMRON Corporation',)\n",
      "('Osaka Gas Co., Ltd.',)\n",
      "('PepsiCo, Inc.',)\n",
      "('Philips & Lite-On Digital Solutions Corp.',)\n",
      "('Acbel Polytech Inc',)\n",
      "('Quanta Storage Inc.',)\n",
      "('Qisda',)\n",
      "('BlackBerry Limited',)\n",
      "('Ricoh Co., Ltd.',)\n",
      "('Sappi',)\n",
      "('Schneider Electric',)\n",
      "('Smurfit Kappa Group PLC',)\n",
      "('Solvay S.A.',)\n",
      "('Staples, Inc.',)\n",
      "('Stanley Black & Decker, Inc.',)\n",
      "('Steelcase',)\n",
      "('Syngenta AG',)\n",
      "('Tata Chemicals',)\n",
      "('Tata Steel',)\n",
      "('TETRA PAK',)\n",
      "('Bloomberg',)\n",
      "('Technicolor SA',)\n",
      "('Toppan Printing Co., Ltd.',)\n",
      "('Trelleborg AB',)\n",
      "('Radius Systems',)\n",
      "('Volkswagen AG',)\n",
      "('Waters Corporation',)\n",
      "('Weg S/A',)\n",
      "('Xerox Corporation',)\n",
      "('Azbil Corporation',)\n",
      "('Yokohama Rubber Company, Limited',)\n",
      "('Brambles',)\n",
      "('Braskem S/A',)\n",
      "('Wistron Corp',)\n",
      "('Quanta Computer',)\n",
      "('Bridgestone Corporation',)\n",
      "('Coway Co Ltd',)\n",
      "('Empresas CMPC',)\n",
      "('Metsä Board',)\n",
      "('Owens-Illinois',)\n",
      "('BillerudKorsnäs',)\n",
      "('Coca-Cola HBC AG',)\n",
      "('Gamesa Corporación Tecnológica, S.A.',)\n",
      "('Hewlett-Packard',)\n",
      "('Herman Miller',)\n",
      "('BT Group',)\n",
      "('Cabot Corporation',)\n",
      "('Canon Inc.',)\n",
      "('Cargill',)\n",
      "('AVK',)\n",
      "('Pacific Coast Producers',)\n",
      "('Shaw Industries Group, Inc.',)\n",
      "('Retal',)\n",
      "('Casio Computer Co., Ltd.',)\n",
      "('Compañía Española de Petróleos, S.A.U. CEPSA',)\n",
      "('SunPower Corporation',)\n",
      "('Motorola Mobility',)\n",
      "('Innolux Corporation',)\n",
      "('Sanden',)\n",
      "('Crimidesa',)\n",
      "('Cisco Systems, Inc.',)\n",
      "('Perfection Bakeries Inc.',)\n",
      "('CJ Cheiljedang',)\n",
      "('CONTRAF-NICOTEX-TOBACCO GmbH',)\n",
      "('Clariant AG',)\n",
      "('SGD Group',)\n",
      "('Interface, Inc.',)\n",
      "('Raizen',)\n",
      "('Coca-Cola Enterprises, Inc.',)\n",
      "('Compal Electronics',)\n",
      "('CNX Resources',)\n",
      "('Trinseo LLC',)\n",
      "('Tennant Company',)\n",
      "('Barilla Holding SpA',)\n",
      "('Bumble Bee Foods LLC',)\n",
      "('Stonyfield Farm Inc',)\n",
      "('Tata Steel Europe',)\n",
      "('Ajinomoto Co.Inc.',)\n",
      "('Agraz',)\n",
      "('Martin Bauer GmbH',)\n",
      "('Mpact Limited',)\n",
      "('Times Microwave Systems',)\n",
      "('Humanscale Corporation',)\n",
      "('Daikin Industries, Ltd.',)\n",
      "('Daimler AG',)\n",
      "('Danone',)\n",
      "('Air Liquide',)\n",
      "('Darfon\\xa0Electronics\\xa0Corp',)\n",
      "('Delta Electronics',)\n",
      "('Dell Inc.',)\n",
      "('Akzo Nobel',)\n",
      "('NCP ALCOHOLS',)\n",
      "('MUNTONS PLC',)\n",
      "('BORMIOLI LUIGI',)\n",
      "('HUMAX ELECTRONICS CO LTD',)\n",
      "('Maxxis International',)\n",
      "('CartOne S.r.l.',)\n",
      "('Fabrica de Tapas Bavaria',)\n",
      "('SHENYANG DONGRUI',)\n",
      "('YONYU Plastics (Shanghai) Co.,Ltd',)\n",
      "('PT Fajar Surya Wisesa Tbk',)\n",
      "('PURECIRCLE USA',)\n",
      "('MI (Michaelleides)',)\n",
      "('Alcoa Corp.',)\n",
      "('DRAGON WILL ENTERPRISE',)\n",
      "('ZHEJIANG WANFENG AUTO WHEEL CO LTD',)\n",
      "('Electrolux',)\n",
      "('Elitegroup computer systems co., Ltd.',)\n",
      "('WOLF',)\n",
      "('Fuji Xerox Co., Ltd.',)\n",
      "('Fujitsu Ltd.',)\n",
      "('General Motors Company',)\n",
      "('Georg Fischer',)\n",
      "('CNX Coal Resources, LP',)\n",
      "('Hitachi, Ltd.',)\n",
      "('Hino Motors, Ltd.',)\n",
      "('Holmen',)\n",
      "('SK Hynix',)\n",
      "('Arcelor Mittal',)\n",
      "('Ingenico',)\n",
      "('Intel Corporation',)\n",
      "('Johnson Matthey',)\n"
     ]
    }
   ],
   "source": [
    "# Viewing all distinct companies\n",
    "query = \"SELECT DISTINCT(Company) FROM carbon_em\"\n",
    "cursor.execute(query)\n",
    "\n",
    "companies = cursor.fetchall()\n",
    "\n",
    "for company in companies:\n",
    "    print(company)"
   ]
  },
  {
   "cell_type": "markdown",
   "id": "cd67e55d",
   "metadata": {},
   "source": [
    "## 1: Coca-Cola's emissions"
   ]
  },
  {
   "cell_type": "markdown",
   "id": "96607bba",
   "metadata": {},
   "source": [
    "First, let's look at a small subset of the data: emissions reported by Coca-Cola.\n",
    "\n",
    "Coke is actually made up of multiple companies around the globe, \n",
    "\n",
    "so we'll make sure our query returns data for any company name that starts with \"Coca-Cola\".\n",
    "\n",
    "Coke used to report for every single different product it has, so we will limit the results to six."
   ]
  },
  {
   "cell_type": "code",
   "execution_count": 84,
   "id": "a1dd5379",
   "metadata": {},
   "outputs": [
    {
     "data": {
      "text/html": [
       "<div>\n",
       "<style scoped>\n",
       "    .dataframe tbody tr th:only-of-type {\n",
       "        vertical-align: middle;\n",
       "    }\n",
       "\n",
       "    .dataframe tbody tr th {\n",
       "        vertical-align: top;\n",
       "    }\n",
       "\n",
       "    .dataframe thead th {\n",
       "        text-align: right;\n",
       "    }\n",
       "</style>\n",
       "<table border=\"1\" class=\"dataframe\">\n",
       "  <thead>\n",
       "    <tr style=\"text-align: right;\">\n",
       "      <th></th>\n",
       "      <th>ID</th>\n",
       "      <th>Year</th>\n",
       "      <th>Product_name</th>\n",
       "      <th>Company</th>\n",
       "      <th>Country</th>\n",
       "      <th>Industry_Group</th>\n",
       "      <th>weight_kg</th>\n",
       "      <th>carbon_footprint_PCF</th>\n",
       "      <th>Upstream_percent_total_pcf</th>\n",
       "      <th>Operations_percent_total_pcf</th>\n",
       "      <th>downstream_percent_total_pcf</th>\n",
       "    </tr>\n",
       "  </thead>\n",
       "  <tbody>\n",
       "    <tr>\n",
       "      <th>0</th>\n",
       "      <td>22710-1-2014</td>\n",
       "      <td>2014</td>\n",
       "      <td>Coca-Cola (all packaging and sizes)</td>\n",
       "      <td>Coca-Cola HBC AG</td>\n",
       "      <td>Switzerland</td>\n",
       "      <td>Food, Beverage &amp; Tobacco</td>\n",
       "      <td>1.0</td>\n",
       "      <td>0.0</td>\n",
       "      <td>84.28%</td>\n",
       "      <td>11.12%</td>\n",
       "      <td>4.60%</td>\n",
       "    </tr>\n",
       "    <tr>\n",
       "      <th>1</th>\n",
       "      <td>22710-1-2015</td>\n",
       "      <td>2015</td>\n",
       "      <td>Coca-Cola (all packaging and sizes)</td>\n",
       "      <td>Coca-Cola HBC AG</td>\n",
       "      <td>Switzerland</td>\n",
       "      <td>Food &amp; Beverage Processing</td>\n",
       "      <td>1.0</td>\n",
       "      <td>0.0</td>\n",
       "      <td>38.37%</td>\n",
       "      <td>12.71%</td>\n",
       "      <td>48.93%</td>\n",
       "    </tr>\n",
       "    <tr>\n",
       "      <th>2</th>\n",
       "      <td>22710-1-2016</td>\n",
       "      <td>2016</td>\n",
       "      <td>Coca-Cola (all packaging and sizes)</td>\n",
       "      <td>Coca-Cola HBC AG</td>\n",
       "      <td>Switzerland</td>\n",
       "      <td>Food, Beverage &amp; Tobacco</td>\n",
       "      <td>1.0</td>\n",
       "      <td>0.0</td>\n",
       "      <td>42.17%</td>\n",
       "      <td>10.98%</td>\n",
       "      <td>46.85%</td>\n",
       "    </tr>\n",
       "    <tr>\n",
       "      <th>3</th>\n",
       "      <td>3565-10-2013</td>\n",
       "      <td>2013</td>\n",
       "      <td>Coke Zero 330 ml glass bottle</td>\n",
       "      <td>Coca-Cola Enterprises, Inc.</td>\n",
       "      <td>USA</td>\n",
       "      <td>Food, Beverage &amp; Tobacco</td>\n",
       "      <td>1.0</td>\n",
       "      <td>0.0</td>\n",
       "      <td>73.95%</td>\n",
       "      <td>3.42%</td>\n",
       "      <td>22.63%</td>\n",
       "    </tr>\n",
       "    <tr>\n",
       "      <th>4</th>\n",
       "      <td>3565-11-2013</td>\n",
       "      <td>2013</td>\n",
       "      <td>Coke Zero 500ml PET</td>\n",
       "      <td>Coca-Cola Enterprises, Inc.</td>\n",
       "      <td>USA</td>\n",
       "      <td>Food, Beverage &amp; Tobacco</td>\n",
       "      <td>1.0</td>\n",
       "      <td>0.0</td>\n",
       "      <td>52.09%</td>\n",
       "      <td>12.32%</td>\n",
       "      <td>35.59%</td>\n",
       "    </tr>\n",
       "    <tr>\n",
       "      <th>5</th>\n",
       "      <td>3565-1-2013</td>\n",
       "      <td>2013</td>\n",
       "      <td>Coca-Cola 300ml can</td>\n",
       "      <td>Coca-Cola Enterprises, Inc.</td>\n",
       "      <td>USA</td>\n",
       "      <td>Food, Beverage &amp; Tobacco</td>\n",
       "      <td>0.0</td>\n",
       "      <td>0.0</td>\n",
       "      <td>69.76%</td>\n",
       "      <td>7.00%</td>\n",
       "      <td>23.24%</td>\n",
       "    </tr>\n",
       "    <tr>\n",
       "      <th>6</th>\n",
       "      <td>3565-12-2013</td>\n",
       "      <td>2013</td>\n",
       "      <td>Coke Zero- 2 litre plastic bottle</td>\n",
       "      <td>Coca-Cola Enterprises, Inc.</td>\n",
       "      <td>USA</td>\n",
       "      <td>Food, Beverage &amp; Tobacco</td>\n",
       "      <td>2.0</td>\n",
       "      <td>0.0</td>\n",
       "      <td>50.20%</td>\n",
       "      <td>21.60%</td>\n",
       "      <td>28.20%</td>\n",
       "    </tr>\n",
       "    <tr>\n",
       "      <th>7</th>\n",
       "      <td>3565-13-2013</td>\n",
       "      <td>2013</td>\n",
       "      <td>Oasis Summer Fruits  - 375ml glass</td>\n",
       "      <td>Coca-Cola Enterprises, Inc.</td>\n",
       "      <td>USA</td>\n",
       "      <td>Food, Beverage &amp; Tobacco</td>\n",
       "      <td>1.0</td>\n",
       "      <td>0.0</td>\n",
       "      <td>72.51%</td>\n",
       "      <td>4.29%</td>\n",
       "      <td>23.21%</td>\n",
       "    </tr>\n",
       "    <tr>\n",
       "      <th>8</th>\n",
       "      <td>3565-14-2013</td>\n",
       "      <td>2013</td>\n",
       "      <td>Oasis Summer Fruits - 500ml plastic bottle</td>\n",
       "      <td>Coca-Cola Enterprises, Inc.</td>\n",
       "      <td>USA</td>\n",
       "      <td>Food, Beverage &amp; Tobacco</td>\n",
       "      <td>1.0</td>\n",
       "      <td>0.0</td>\n",
       "      <td>56.84%</td>\n",
       "      <td>11.43%</td>\n",
       "      <td>31.73%</td>\n",
       "    </tr>\n",
       "    <tr>\n",
       "      <th>9</th>\n",
       "      <td>3565-2-2013</td>\n",
       "      <td>2013</td>\n",
       "      <td>Coca-Cola 300ml glass bottle</td>\n",
       "      <td>Coca-Cola Enterprises, Inc.</td>\n",
       "      <td>USA</td>\n",
       "      <td>Food, Beverage &amp; Tobacco</td>\n",
       "      <td>0.0</td>\n",
       "      <td>0.0</td>\n",
       "      <td>N/a (product with insufficient stage-level data)</td>\n",
       "      <td>N/a (product with insufficient stage-level data)</td>\n",
       "      <td>N/a (product with insufficient stage-level data)</td>\n",
       "    </tr>\n",
       "  </tbody>\n",
       "</table>\n",
       "</div>"
      ],
      "text/plain": [
       "             ID  Year                                Product_name  \\\n",
       "0  22710-1-2014  2014         Coca-Cola (all packaging and sizes)   \n",
       "1  22710-1-2015  2015         Coca-Cola (all packaging and sizes)   \n",
       "2  22710-1-2016  2016         Coca-Cola (all packaging and sizes)   \n",
       "3  3565-10-2013  2013               Coke Zero 330 ml glass bottle   \n",
       "4  3565-11-2013  2013                         Coke Zero 500ml PET   \n",
       "5   3565-1-2013  2013                         Coca-Cola 300ml can   \n",
       "6  3565-12-2013  2013           Coke Zero- 2 litre plastic bottle   \n",
       "7  3565-13-2013  2013          Oasis Summer Fruits  - 375ml glass   \n",
       "8  3565-14-2013  2013  Oasis Summer Fruits - 500ml plastic bottle   \n",
       "9   3565-2-2013  2013                Coca-Cola 300ml glass bottle   \n",
       "\n",
       "                       Company      Country              Industry_Group  \\\n",
       "0             Coca-Cola HBC AG  Switzerland    Food, Beverage & Tobacco   \n",
       "1             Coca-Cola HBC AG  Switzerland  Food & Beverage Processing   \n",
       "2             Coca-Cola HBC AG  Switzerland    Food, Beverage & Tobacco   \n",
       "3  Coca-Cola Enterprises, Inc.          USA    Food, Beverage & Tobacco   \n",
       "4  Coca-Cola Enterprises, Inc.          USA    Food, Beverage & Tobacco   \n",
       "5  Coca-Cola Enterprises, Inc.          USA    Food, Beverage & Tobacco   \n",
       "6  Coca-Cola Enterprises, Inc.          USA    Food, Beverage & Tobacco   \n",
       "7  Coca-Cola Enterprises, Inc.          USA    Food, Beverage & Tobacco   \n",
       "8  Coca-Cola Enterprises, Inc.          USA    Food, Beverage & Tobacco   \n",
       "9  Coca-Cola Enterprises, Inc.          USA    Food, Beverage & Tobacco   \n",
       "\n",
       "   weight_kg  carbon_footprint_PCF  \\\n",
       "0        1.0                   0.0   \n",
       "1        1.0                   0.0   \n",
       "2        1.0                   0.0   \n",
       "3        1.0                   0.0   \n",
       "4        1.0                   0.0   \n",
       "5        0.0                   0.0   \n",
       "6        2.0                   0.0   \n",
       "7        1.0                   0.0   \n",
       "8        1.0                   0.0   \n",
       "9        0.0                   0.0   \n",
       "\n",
       "                         Upstream_percent_total_pcf  \\\n",
       "0                                            84.28%   \n",
       "1                                            38.37%   \n",
       "2                                            42.17%   \n",
       "3                                            73.95%   \n",
       "4                                            52.09%   \n",
       "5                                            69.76%   \n",
       "6                                            50.20%   \n",
       "7                                            72.51%   \n",
       "8                                            56.84%   \n",
       "9  N/a (product with insufficient stage-level data)   \n",
       "\n",
       "                       Operations_percent_total_pcf  \\\n",
       "0                                            11.12%   \n",
       "1                                            12.71%   \n",
       "2                                            10.98%   \n",
       "3                                             3.42%   \n",
       "4                                            12.32%   \n",
       "5                                             7.00%   \n",
       "6                                            21.60%   \n",
       "7                                             4.29%   \n",
       "8                                            11.43%   \n",
       "9  N/a (product with insufficient stage-level data)   \n",
       "\n",
       "                       downstream_percent_total_pcf  \n",
       "0                                             4.60%  \n",
       "1                                            48.93%  \n",
       "2                                            46.85%  \n",
       "3                                            22.63%  \n",
       "4                                            35.59%  \n",
       "5                                            23.24%  \n",
       "6                                            28.20%  \n",
       "7                                            23.21%  \n",
       "8                                            31.73%  \n",
       "9  N/a (product with insufficient stage-level data)  "
      ]
     },
     "execution_count": 84,
     "metadata": {},
     "output_type": "execute_result"
    }
   ],
   "source": [
    "#-- Select all fields where the company name is Coca-Cola, limiting to the first six results\n",
    "\n",
    "query = '''SELECT *\n",
    "FROM carbon_em\t\n",
    "WHERE company LIKE 'Coca-Cola%'\n",
    "LIMIT 10;'''\n",
    "\n",
    "# Put it all to a data frame\n",
    "df = pd.read_sql(query, con = db)\n",
    "df"
   ]
  },
  {
   "cell_type": "markdown",
   "id": "9e854ddf",
   "metadata": {},
   "source": [
    "### A little background:\n",
    "- Upstream emissions: emissions that occur before the company's own operations such as emissions created by manufacturing bottles that Coke buys from suppliers\n",
    "- Operations emissions: emissions that the company creates directly, such as when Coke is bottling its product\n",
    "- Downstream emissions: emissions that occur after the product leaves the company, such as after Coke has sold drinks to McDonald's"
   ]
  },
  {
   "cell_type": "markdown",
   "id": "a86305bd",
   "metadata": {},
   "source": [
    "## 2: Most recent data"
   ]
  },
  {
   "cell_type": "markdown",
   "id": "d84281af",
   "metadata": {},
   "source": [
    " When was the most recent data collected?"
   ]
  },
  {
   "cell_type": "code",
   "execution_count": 85,
   "id": "3bb27bfe",
   "metadata": {},
   "outputs": [
    {
     "data": {
      "text/html": [
       "<div>\n",
       "<style scoped>\n",
       "    .dataframe tbody tr th:only-of-type {\n",
       "        vertical-align: middle;\n",
       "    }\n",
       "\n",
       "    .dataframe tbody tr th {\n",
       "        vertical-align: top;\n",
       "    }\n",
       "\n",
       "    .dataframe thead th {\n",
       "        text-align: right;\n",
       "    }\n",
       "</style>\n",
       "<table border=\"1\" class=\"dataframe\">\n",
       "  <thead>\n",
       "    <tr style=\"text-align: right;\">\n",
       "      <th></th>\n",
       "      <th>MAX(year)</th>\n",
       "    </tr>\n",
       "  </thead>\n",
       "  <tbody>\n",
       "    <tr>\n",
       "      <th>0</th>\n",
       "      <td>2017</td>\n",
       "    </tr>\n",
       "  </tbody>\n",
       "</table>\n",
       "</div>"
      ],
      "text/plain": [
       "   MAX(year)\n",
       "0       2017"
      ]
     },
     "execution_count": 85,
     "metadata": {},
     "output_type": "execute_result"
    }
   ],
   "source": [
    "#-- Return the most recent year for which data was collected\n",
    "\n",
    "query = '''SELECT MAX(year)\n",
    "FROM carbon_em;\n",
    "'''\n",
    "\n",
    "# Put it all to a data frame\n",
    "df = pd.read_sql(query, con = db)\n",
    "df"
   ]
  },
  {
   "cell_type": "markdown",
   "id": "46991fc3",
   "metadata": {},
   "source": [
    "## 3: Targeting major emitters"
   ]
  },
  {
   "cell_type": "markdown",
   "id": "407b00b8",
   "metadata": {},
   "source": [
    "What are the industries with the most emissions in 2017 (the most recent year that data is available)?"
   ]
  },
  {
   "cell_type": "markdown",
   "id": "2e703904",
   "metadata": {},
   "source": [
    "- Return the `industry_group` and a rounded total of `carbon_footprint_pcf` for each industry, aliasing as `total_industry_footprint`.\n",
    "- Limit to data for 2017 and order by `total_industry_footprint`."
   ]
  },
  {
   "cell_type": "code",
   "execution_count": 86,
   "id": "60311993",
   "metadata": {},
   "outputs": [
    {
     "data": {
      "text/html": [
       "<div>\n",
       "<style scoped>\n",
       "    .dataframe tbody tr th:only-of-type {\n",
       "        vertical-align: middle;\n",
       "    }\n",
       "\n",
       "    .dataframe tbody tr th {\n",
       "        vertical-align: top;\n",
       "    }\n",
       "\n",
       "    .dataframe thead th {\n",
       "        text-align: right;\n",
       "    }\n",
       "</style>\n",
       "<table border=\"1\" class=\"dataframe\">\n",
       "  <thead>\n",
       "    <tr style=\"text-align: right;\">\n",
       "      <th></th>\n",
       "      <th>industry_group</th>\n",
       "      <th>total_industry_footprint</th>\n",
       "    </tr>\n",
       "  </thead>\n",
       "  <tbody>\n",
       "    <tr>\n",
       "      <th>0</th>\n",
       "      <td>Materials</td>\n",
       "      <td>107129.0</td>\n",
       "    </tr>\n",
       "    <tr>\n",
       "      <th>1</th>\n",
       "      <td>Capital Goods</td>\n",
       "      <td>94943.0</td>\n",
       "    </tr>\n",
       "    <tr>\n",
       "      <th>2</th>\n",
       "      <td>Technology Hardware &amp; Equipment</td>\n",
       "      <td>21866.0</td>\n",
       "    </tr>\n",
       "    <tr>\n",
       "      <th>3</th>\n",
       "      <td>Food, Beverage &amp; Tobacco</td>\n",
       "      <td>3162.0</td>\n",
       "    </tr>\n",
       "    <tr>\n",
       "      <th>4</th>\n",
       "      <td>Commercial &amp; Professional Services</td>\n",
       "      <td>741.0</td>\n",
       "    </tr>\n",
       "    <tr>\n",
       "      <th>5</th>\n",
       "      <td>Software &amp; Services</td>\n",
       "      <td>690.0</td>\n",
       "    </tr>\n",
       "  </tbody>\n",
       "</table>\n",
       "</div>"
      ],
      "text/plain": [
       "                       industry_group  total_industry_footprint\n",
       "0                           Materials                  107129.0\n",
       "1                       Capital Goods                   94943.0\n",
       "2     Technology Hardware & Equipment                   21866.0\n",
       "3            Food, Beverage & Tobacco                    3162.0\n",
       "4  Commercial & Professional Services                     741.0\n",
       "5                 Software & Services                     690.0"
      ]
     },
     "execution_count": 86,
     "metadata": {},
     "output_type": "execute_result"
    }
   ],
   "source": [
    "#-- Return industry_group and a rounded total of carbon_footprint_pcf, aliased as total_industry_footprint\n",
    "#-- Limit to data for 2017 and order by total_industry_footprint\n",
    "\n",
    "query = '''SELECT industry_group, ROUND(SUM(carbon_footprint_pcf), 1) AS total_industry_footprint\n",
    "FROM carbon_em\n",
    "GROUP BY industry_group, year\n",
    "HAVING year = 2017\n",
    "ORDER BY total_industry_footprint DESC;'''\n",
    "\n",
    "# Put it all to a data frame\n",
    "df = pd.read_sql(query, con = db)\n",
    "df"
   ]
  },
  {
   "cell_type": "markdown",
   "id": "5ecf09da",
   "metadata": {},
   "source": [
    "## 4: Industry representation"
   ]
  },
  {
   "cell_type": "markdown",
   "id": "34603745",
   "metadata": {},
   "source": [
    "It looks like the Materials industry had a huge carbon footprint in 2017. \n",
    "\n",
    "But what if that's just because there are many companies from the Materials industry in the dataset? \n",
    "\n",
    "Let's check which industries are most heavily represented in that year."
   ]
  },
  {
   "cell_type": "markdown",
   "id": "74627650",
   "metadata": {},
   "source": [
    "- Return each `industry_group` included in the table and a count of the number of records that list that industry group.\n",
    "- Limit the results to only those from 2017 and lias the count as `count_industry`.\n",
    "- Order by `count_industry`, descending."
   ]
  },
  {
   "cell_type": "code",
   "execution_count": 87,
   "id": "829e76c4",
   "metadata": {},
   "outputs": [
    {
     "data": {
      "text/html": [
       "<div>\n",
       "<style scoped>\n",
       "    .dataframe tbody tr th:only-of-type {\n",
       "        vertical-align: middle;\n",
       "    }\n",
       "\n",
       "    .dataframe tbody tr th {\n",
       "        vertical-align: top;\n",
       "    }\n",
       "\n",
       "    .dataframe thead th {\n",
       "        text-align: right;\n",
       "    }\n",
       "</style>\n",
       "<table border=\"1\" class=\"dataframe\">\n",
       "  <thead>\n",
       "    <tr style=\"text-align: right;\">\n",
       "      <th></th>\n",
       "      <th>industry_group</th>\n",
       "      <th>count_industry</th>\n",
       "    </tr>\n",
       "  </thead>\n",
       "  <tbody>\n",
       "    <tr>\n",
       "      <th>0</th>\n",
       "      <td>Technology Hardware &amp; Equipment</td>\n",
       "      <td>22</td>\n",
       "    </tr>\n",
       "    <tr>\n",
       "      <th>1</th>\n",
       "      <td>Food, Beverage &amp; Tobacco</td>\n",
       "      <td>22</td>\n",
       "    </tr>\n",
       "    <tr>\n",
       "      <th>2</th>\n",
       "      <td>Materials</td>\n",
       "      <td>11</td>\n",
       "    </tr>\n",
       "    <tr>\n",
       "      <th>3</th>\n",
       "      <td>Capital Goods</td>\n",
       "      <td>4</td>\n",
       "    </tr>\n",
       "    <tr>\n",
       "      <th>4</th>\n",
       "      <td>Commercial &amp; Professional Services</td>\n",
       "      <td>2</td>\n",
       "    </tr>\n",
       "    <tr>\n",
       "      <th>5</th>\n",
       "      <td>Software &amp; Services</td>\n",
       "      <td>1</td>\n",
       "    </tr>\n",
       "  </tbody>\n",
       "</table>\n",
       "</div>"
      ],
      "text/plain": [
       "                       industry_group  count_industry\n",
       "0     Technology Hardware & Equipment              22\n",
       "1            Food, Beverage & Tobacco              22\n",
       "2                           Materials              11\n",
       "3                       Capital Goods               4\n",
       "4  Commercial & Professional Services               2\n",
       "5                 Software & Services               1"
      ]
     },
     "execution_count": 87,
     "metadata": {},
     "output_type": "execute_result"
    }
   ],
   "source": [
    "query = '''SELECT industry_group, COUNT(*) AS count_industry\n",
    "FROM carbon_em\n",
    "GROUP BY industry_group, year\n",
    "HAVING year = 2017\n",
    "ORDER BY count_industry DESC;\n",
    "'''\n",
    "\n",
    "# Put it all to a data frame\n",
    "df = pd.read_sql(query, con = db)\n",
    "df"
   ]
  },
  {
   "cell_type": "markdown",
   "id": "20d558da",
   "metadata": {},
   "source": [
    "## 5: Capital Goods industry"
   ]
  },
  {
   "cell_type": "markdown",
   "id": "424dbcf8",
   "metadata": {},
   "source": [
    "We can see that the Materials industry is the biggest emitter _despite_ having less representation in our dataset than several other industries&mdash;yikes! \n",
    "\n",
    "The Capital Goods industry looks similar. \n",
    "\n",
    "Let's explore the companies and products reporting for 2017 in the Capital Goods industry."
   ]
  },
  {
   "cell_type": "code",
   "execution_count": 88,
   "id": "cd54b08c",
   "metadata": {},
   "outputs": [
    {
     "data": {
      "text/html": [
       "<div>\n",
       "<style scoped>\n",
       "    .dataframe tbody tr th:only-of-type {\n",
       "        vertical-align: middle;\n",
       "    }\n",
       "\n",
       "    .dataframe tbody tr th {\n",
       "        vertical-align: top;\n",
       "    }\n",
       "\n",
       "    .dataframe thead th {\n",
       "        text-align: right;\n",
       "    }\n",
       "</style>\n",
       "<table border=\"1\" class=\"dataframe\">\n",
       "  <thead>\n",
       "    <tr style=\"text-align: right;\">\n",
       "      <th></th>\n",
       "      <th>industry_group</th>\n",
       "      <th>company</th>\n",
       "      <th>product_name</th>\n",
       "    </tr>\n",
       "  </thead>\n",
       "  <tbody>\n",
       "    <tr>\n",
       "      <th>0</th>\n",
       "      <td>Capital Goods</td>\n",
       "      <td>Mitsui Mining &amp; Smelting Co., Ltd.</td>\n",
       "      <td>Zinc Oxide</td>\n",
       "    </tr>\n",
       "    <tr>\n",
       "      <th>1</th>\n",
       "      <td>Capital Goods</td>\n",
       "      <td>Daikin Industries, Ltd.</td>\n",
       "      <td>Residential Air Conditioner</td>\n",
       "    </tr>\n",
       "    <tr>\n",
       "      <th>2</th>\n",
       "      <td>Capital Goods</td>\n",
       "      <td>Daikin Industries, Ltd.</td>\n",
       "      <td>Commercial Air Conditioner</td>\n",
       "    </tr>\n",
       "    <tr>\n",
       "      <th>3</th>\n",
       "      <td>Capital Goods</td>\n",
       "      <td>Daikin Industries, Ltd.</td>\n",
       "      <td>Light commercial Air Conditioner</td>\n",
       "    </tr>\n",
       "  </tbody>\n",
       "</table>\n",
       "</div>"
      ],
      "text/plain": [
       "  industry_group                             company  \\\n",
       "0  Capital Goods  Mitsui Mining & Smelting Co., Ltd.   \n",
       "1  Capital Goods             Daikin Industries, Ltd.   \n",
       "2  Capital Goods             Daikin Industries, Ltd.   \n",
       "3  Capital Goods             Daikin Industries, Ltd.   \n",
       "\n",
       "                       product_name  \n",
       "0                        Zinc Oxide  \n",
       "1       Residential Air Conditioner  \n",
       "2        Commercial Air Conditioner  \n",
       "3  Light commercial Air Conditioner  "
      ]
     },
     "execution_count": 88,
     "metadata": {},
     "output_type": "execute_result"
    }
   ],
   "source": [
    "#-- Return industry_group, company, and product_name for all records reporting in the Capital Goods industry during 2017\n",
    "\n",
    "query = '''SELECT industry_group, company, product_name\n",
    "FROM carbon_em\n",
    "WHERE year = 2017\n",
    "    AND industry_group = 'Capital Goods';'''\n",
    "\n",
    "# Put it all to a data frame\n",
    "df = pd.read_sql(query, con = db)\n",
    "df"
   ]
  },
  {
   "cell_type": "markdown",
   "id": "9c77c7a7",
   "metadata": {},
   "source": [
    "## 6: Capital Goods lifecycle emissions"
   ]
  },
  {
   "cell_type": "markdown",
   "id": "d9da47f4",
   "metadata": {},
   "source": [
    "Daikin is an air conditioning and refrigeration manufacturer.\n",
    "\n",
    "Let's look at emissions throughout the life cycle of Daikin products. \n",
    "\n",
    "Can you guess whether most emissions are upstream, downstream, or during operations?"
   ]
  },
  {
   "cell_type": "markdown",
   "id": "682f371d",
   "metadata": {},
   "source": [
    "- Return `product_name`, `company`, `upstream_percent_total_pcf`, `operations_percent_total_pcf`, and `downstream_percent_total_pcf` for Daikin Industries, Ltd. in 2017."
   ]
  },
  {
   "cell_type": "code",
   "execution_count": 89,
   "id": "76a9e79c",
   "metadata": {},
   "outputs": [
    {
     "data": {
      "text/html": [
       "<div>\n",
       "<style scoped>\n",
       "    .dataframe tbody tr th:only-of-type {\n",
       "        vertical-align: middle;\n",
       "    }\n",
       "\n",
       "    .dataframe tbody tr th {\n",
       "        vertical-align: top;\n",
       "    }\n",
       "\n",
       "    .dataframe thead th {\n",
       "        text-align: right;\n",
       "    }\n",
       "</style>\n",
       "<table border=\"1\" class=\"dataframe\">\n",
       "  <thead>\n",
       "    <tr style=\"text-align: right;\">\n",
       "      <th></th>\n",
       "      <th>product_name</th>\n",
       "      <th>company</th>\n",
       "      <th>upstream_percent_total_pcf</th>\n",
       "      <th>operations_percent_total_pcf</th>\n",
       "      <th>downstream_percent_total_pcf</th>\n",
       "    </tr>\n",
       "  </thead>\n",
       "  <tbody>\n",
       "    <tr>\n",
       "      <th>0</th>\n",
       "      <td>Residential Air Conditioner</td>\n",
       "      <td>Daikin Industries, Ltd.</td>\n",
       "      <td>3.96%</td>\n",
       "      <td>0.55%</td>\n",
       "      <td>95.50%</td>\n",
       "    </tr>\n",
       "    <tr>\n",
       "      <th>1</th>\n",
       "      <td>Commercial Air Conditioner</td>\n",
       "      <td>Daikin Industries, Ltd.</td>\n",
       "      <td>0.98%</td>\n",
       "      <td>0.13%</td>\n",
       "      <td>98.88%</td>\n",
       "    </tr>\n",
       "    <tr>\n",
       "      <th>2</th>\n",
       "      <td>Light commercial Air Conditioner</td>\n",
       "      <td>Daikin Industries, Ltd.</td>\n",
       "      <td>0.70%</td>\n",
       "      <td>0.10%</td>\n",
       "      <td>99.21%</td>\n",
       "    </tr>\n",
       "  </tbody>\n",
       "</table>\n",
       "</div>"
      ],
      "text/plain": [
       "                       product_name                  company  \\\n",
       "0       Residential Air Conditioner  Daikin Industries, Ltd.   \n",
       "1        Commercial Air Conditioner  Daikin Industries, Ltd.   \n",
       "2  Light commercial Air Conditioner  Daikin Industries, Ltd.   \n",
       "\n",
       "  upstream_percent_total_pcf operations_percent_total_pcf  \\\n",
       "0                      3.96%                        0.55%   \n",
       "1                      0.98%                        0.13%   \n",
       "2                      0.70%                        0.10%   \n",
       "\n",
       "  downstream_percent_total_pcf  \n",
       "0                       95.50%  \n",
       "1                       98.88%  \n",
       "2                       99.21%  "
      ]
     },
     "execution_count": 89,
     "metadata": {},
     "output_type": "execute_result"
    }
   ],
   "source": [
    "query = '''SELECT product_name, \n",
    "    company, \n",
    "    upstream_percent_total_pcf, \n",
    "    operations_percent_total_pcf, \n",
    "    downstream_percent_total_pcf\n",
    "FROM carbon_em\n",
    "WHERE year = 2017\n",
    "    AND company = 'Daikin Industries, Ltd.';\n",
    "\n",
    "'''\n",
    "\n",
    "# Put it all to a data frame\n",
    "df = pd.read_sql(query, con = db)\n",
    "df"
   ]
  },
  {
   "cell_type": "markdown",
   "id": "a0407ca4",
   "metadata": {},
   "source": [
    "## Exploring visually with plotly express"
   ]
  },
  {
   "cell_type": "code",
   "execution_count": 90,
   "id": "8e859737",
   "metadata": {},
   "outputs": [],
   "source": [
    "import matplotlib.pyplot as plt\n",
    "import seaborn as sns\n",
    "%matplotlib inline\n",
    "import plotly.express as px"
   ]
  },
  {
   "cell_type": "markdown",
   "id": "d3213396",
   "metadata": {},
   "source": [
    "## 7: Country representation"
   ]
  },
  {
   "cell_type": "markdown",
   "id": "f0d57564",
   "metadata": {},
   "source": [
    "Let's take a look at emissions by country. \n",
    "\n",
    "You may have noticed that each time we run a query, the query results are available as df.\n",
    "\n",
    "So if we were to select all information from product_emissions, that would create a DataFrame called df that we can use in a plotly visualization! "
   ]
  },
  {
   "cell_type": "code",
   "execution_count": 91,
   "id": "9abccb71",
   "metadata": {},
   "outputs": [
    {
     "data": {
      "text/html": [
       "<div>\n",
       "<style scoped>\n",
       "    .dataframe tbody tr th:only-of-type {\n",
       "        vertical-align: middle;\n",
       "    }\n",
       "\n",
       "    .dataframe tbody tr th {\n",
       "        vertical-align: top;\n",
       "    }\n",
       "\n",
       "    .dataframe thead th {\n",
       "        text-align: right;\n",
       "    }\n",
       "</style>\n",
       "<table border=\"1\" class=\"dataframe\">\n",
       "  <thead>\n",
       "    <tr style=\"text-align: right;\">\n",
       "      <th></th>\n",
       "      <th>ID</th>\n",
       "      <th>Year</th>\n",
       "      <th>Product_name</th>\n",
       "      <th>Company</th>\n",
       "      <th>Country</th>\n",
       "      <th>Industry_Group</th>\n",
       "      <th>weight_kg</th>\n",
       "      <th>carbon_footprint_PCF</th>\n",
       "      <th>Upstream_percent_total_pcf</th>\n",
       "      <th>Operations_percent_total_pcf</th>\n",
       "      <th>downstream_percent_total_pcf</th>\n",
       "    </tr>\n",
       "  </thead>\n",
       "  <tbody>\n",
       "    <tr>\n",
       "      <th>0</th>\n",
       "      <td>10056-1-2014</td>\n",
       "      <td>2014</td>\n",
       "      <td>Frosted Flakes(R) Cereal</td>\n",
       "      <td>Kellogg Company</td>\n",
       "      <td>USA</td>\n",
       "      <td>Food, Beverage &amp; Tobacco</td>\n",
       "      <td>1.0</td>\n",
       "      <td>2.0</td>\n",
       "      <td>57.50%</td>\n",
       "      <td>30.00%</td>\n",
       "      <td>12.50%</td>\n",
       "    </tr>\n",
       "    <tr>\n",
       "      <th>1</th>\n",
       "      <td>10056-1-2015</td>\n",
       "      <td>2015</td>\n",
       "      <td>Frosted Flakes, 23 oz, produced in Lancaster, ...</td>\n",
       "      <td>Kellogg Company</td>\n",
       "      <td>USA</td>\n",
       "      <td>Food &amp; Beverage Processing</td>\n",
       "      <td>1.0</td>\n",
       "      <td>2.0</td>\n",
       "      <td>57.50%</td>\n",
       "      <td>30.00%</td>\n",
       "      <td>12.50%</td>\n",
       "    </tr>\n",
       "    <tr>\n",
       "      <th>2</th>\n",
       "      <td>10222-1-2013</td>\n",
       "      <td>2013</td>\n",
       "      <td>Office Chair</td>\n",
       "      <td>KNOLL INC</td>\n",
       "      <td>USA</td>\n",
       "      <td>Capital Goods</td>\n",
       "      <td>21.0</td>\n",
       "      <td>73.0</td>\n",
       "      <td>80.63%</td>\n",
       "      <td>17.36%</td>\n",
       "      <td>2.01%</td>\n",
       "    </tr>\n",
       "    <tr>\n",
       "      <th>3</th>\n",
       "      <td>10261-1-2017</td>\n",
       "      <td>2017</td>\n",
       "      <td>Multifunction Printers</td>\n",
       "      <td>Konica Minolta, Inc.</td>\n",
       "      <td>Japan</td>\n",
       "      <td>Technology Hardware &amp; Equipment</td>\n",
       "      <td>110.0</td>\n",
       "      <td>1488.0</td>\n",
       "      <td>30.65%</td>\n",
       "      <td>5.51%</td>\n",
       "      <td>63.84%</td>\n",
       "    </tr>\n",
       "    <tr>\n",
       "      <th>4</th>\n",
       "      <td>10261-2-2017</td>\n",
       "      <td>2017</td>\n",
       "      <td>Multifunction Printers</td>\n",
       "      <td>Konica Minolta, Inc.</td>\n",
       "      <td>Japan</td>\n",
       "      <td>Technology Hardware &amp; Equipment</td>\n",
       "      <td>110.0</td>\n",
       "      <td>1818.0</td>\n",
       "      <td>25.08%</td>\n",
       "      <td>4.51%</td>\n",
       "      <td>70.41%</td>\n",
       "    </tr>\n",
       "    <tr>\n",
       "      <th>...</th>\n",
       "      <td>...</td>\n",
       "      <td>...</td>\n",
       "      <td>...</td>\n",
       "      <td>...</td>\n",
       "      <td>...</td>\n",
       "      <td>...</td>\n",
       "      <td>...</td>\n",
       "      <td>...</td>\n",
       "      <td>...</td>\n",
       "      <td>...</td>\n",
       "      <td>...</td>\n",
       "    </tr>\n",
       "    <tr>\n",
       "      <th>833</th>\n",
       "      <td>9298-2-2014</td>\n",
       "      <td>2014</td>\n",
       "      <td>Desktop CPU</td>\n",
       "      <td>Intel Corporation</td>\n",
       "      <td>USA</td>\n",
       "      <td>Semiconductors &amp; Semiconductor Equipment</td>\n",
       "      <td>0.0</td>\n",
       "      <td>14.0</td>\n",
       "      <td>32.14%</td>\n",
       "      <td>54.29%</td>\n",
       "      <td>13.57%</td>\n",
       "    </tr>\n",
       "    <tr>\n",
       "      <th>834</th>\n",
       "      <td>9298-3-2013</td>\n",
       "      <td>2013</td>\n",
       "      <td>Mobile CPU</td>\n",
       "      <td>Intel Corporation</td>\n",
       "      <td>USA</td>\n",
       "      <td>Technology Hardware &amp; Equipment</td>\n",
       "      <td>0.0</td>\n",
       "      <td>7.0</td>\n",
       "      <td>28.57%</td>\n",
       "      <td>71.43%</td>\n",
       "      <td>0.00%</td>\n",
       "    </tr>\n",
       "    <tr>\n",
       "      <th>835</th>\n",
       "      <td>9298-3-2014</td>\n",
       "      <td>2014</td>\n",
       "      <td>Mobile CPU</td>\n",
       "      <td>Intel Corporation</td>\n",
       "      <td>USA</td>\n",
       "      <td>Semiconductors &amp; Semiconductor Equipment</td>\n",
       "      <td>0.0</td>\n",
       "      <td>7.0</td>\n",
       "      <td>31.43%</td>\n",
       "      <td>54.29%</td>\n",
       "      <td>14.29%</td>\n",
       "    </tr>\n",
       "    <tr>\n",
       "      <th>836</th>\n",
       "      <td>9792-1-2017</td>\n",
       "      <td>2017</td>\n",
       "      <td>Complete catalyst system for diesel-powered pa...</td>\n",
       "      <td>Johnson Matthey</td>\n",
       "      <td>United Kingdom</td>\n",
       "      <td>Materials</td>\n",
       "      <td>2.0</td>\n",
       "      <td>188.0</td>\n",
       "      <td>N/a (product with insufficient stage-level data)</td>\n",
       "      <td>N/a (product with insufficient stage-level data)</td>\n",
       "      <td>N/a (product with insufficient stage-level data)</td>\n",
       "    </tr>\n",
       "    <tr>\n",
       "      <th>837</th>\n",
       "      <td>9792-2-2017</td>\n",
       "      <td>2017</td>\n",
       "      <td>Three-way Catalyst for gasoline-powered passen...</td>\n",
       "      <td>Johnson Matthey</td>\n",
       "      <td>United Kingdom</td>\n",
       "      <td>Materials</td>\n",
       "      <td>2.0</td>\n",
       "      <td>63.0</td>\n",
       "      <td>N/a (product with insufficient stage-level data)</td>\n",
       "      <td>N/a (product with insufficient stage-level data)</td>\n",
       "      <td>N/a (product with insufficient stage-level data)</td>\n",
       "    </tr>\n",
       "  </tbody>\n",
       "</table>\n",
       "<p>838 rows × 11 columns</p>\n",
       "</div>"
      ],
      "text/plain": [
       "               ID  Year                                       Product_name  \\\n",
       "0    10056-1-2014  2014                           Frosted Flakes(R) Cereal   \n",
       "1    10056-1-2015  2015  Frosted Flakes, 23 oz, produced in Lancaster, ...   \n",
       "2    10222-1-2013  2013                                       Office Chair   \n",
       "3    10261-1-2017  2017                             Multifunction Printers   \n",
       "4    10261-2-2017  2017                             Multifunction Printers   \n",
       "..            ...   ...                                                ...   \n",
       "833   9298-2-2014  2014                                        Desktop CPU   \n",
       "834   9298-3-2013  2013                                         Mobile CPU   \n",
       "835   9298-3-2014  2014                                         Mobile CPU   \n",
       "836   9792-1-2017  2017  Complete catalyst system for diesel-powered pa...   \n",
       "837   9792-2-2017  2017  Three-way Catalyst for gasoline-powered passen...   \n",
       "\n",
       "                  Company         Country  \\\n",
       "0         Kellogg Company             USA   \n",
       "1         Kellogg Company             USA   \n",
       "2               KNOLL INC             USA   \n",
       "3    Konica Minolta, Inc.           Japan   \n",
       "4    Konica Minolta, Inc.           Japan   \n",
       "..                    ...             ...   \n",
       "833     Intel Corporation             USA   \n",
       "834     Intel Corporation             USA   \n",
       "835     Intel Corporation             USA   \n",
       "836       Johnson Matthey  United Kingdom   \n",
       "837       Johnson Matthey  United Kingdom   \n",
       "\n",
       "                               Industry_Group  weight_kg  \\\n",
       "0                    Food, Beverage & Tobacco        1.0   \n",
       "1                  Food & Beverage Processing        1.0   \n",
       "2                               Capital Goods       21.0   \n",
       "3             Technology Hardware & Equipment      110.0   \n",
       "4             Technology Hardware & Equipment      110.0   \n",
       "..                                        ...        ...   \n",
       "833  Semiconductors & Semiconductor Equipment        0.0   \n",
       "834           Technology Hardware & Equipment        0.0   \n",
       "835  Semiconductors & Semiconductor Equipment        0.0   \n",
       "836                                 Materials        2.0   \n",
       "837                                 Materials        2.0   \n",
       "\n",
       "     carbon_footprint_PCF                        Upstream_percent_total_pcf  \\\n",
       "0                     2.0                                            57.50%   \n",
       "1                     2.0                                            57.50%   \n",
       "2                    73.0                                            80.63%   \n",
       "3                  1488.0                                            30.65%   \n",
       "4                  1818.0                                            25.08%   \n",
       "..                    ...                                               ...   \n",
       "833                  14.0                                            32.14%   \n",
       "834                   7.0                                            28.57%   \n",
       "835                   7.0                                            31.43%   \n",
       "836                 188.0  N/a (product with insufficient stage-level data)   \n",
       "837                  63.0  N/a (product with insufficient stage-level data)   \n",
       "\n",
       "                         Operations_percent_total_pcf  \\\n",
       "0                                              30.00%   \n",
       "1                                              30.00%   \n",
       "2                                              17.36%   \n",
       "3                                               5.51%   \n",
       "4                                               4.51%   \n",
       "..                                                ...   \n",
       "833                                            54.29%   \n",
       "834                                            71.43%   \n",
       "835                                            54.29%   \n",
       "836  N/a (product with insufficient stage-level data)   \n",
       "837  N/a (product with insufficient stage-level data)   \n",
       "\n",
       "                         downstream_percent_total_pcf  \n",
       "0                                              12.50%  \n",
       "1                                              12.50%  \n",
       "2                                               2.01%  \n",
       "3                                              63.84%  \n",
       "4                                              70.41%  \n",
       "..                                                ...  \n",
       "833                                            13.57%  \n",
       "834                                             0.00%  \n",
       "835                                            14.29%  \n",
       "836  N/a (product with insufficient stage-level data)  \n",
       "837  N/a (product with insufficient stage-level data)  \n",
       "\n",
       "[838 rows x 11 columns]"
      ]
     },
     "execution_count": 91,
     "metadata": {},
     "output_type": "execute_result"
    }
   ],
   "source": [
    "#-- Select all information from product_emissions\n",
    "query = '''SELECT *\n",
    "FROM carbon_em;'''\n",
    "\n",
    "# Put it all to a data frame\n",
    "df = pd.read_sql(query, con = db)\n",
    "df"
   ]
  },
  {
   "cell_type": "code",
   "execution_count": 92,
   "id": "d771640e",
   "metadata": {},
   "outputs": [
    {
     "data": {
      "text/html": [
       "<div>\n",
       "<style scoped>\n",
       "    .dataframe tbody tr th:only-of-type {\n",
       "        vertical-align: middle;\n",
       "    }\n",
       "\n",
       "    .dataframe tbody tr th {\n",
       "        vertical-align: top;\n",
       "    }\n",
       "\n",
       "    .dataframe thead th {\n",
       "        text-align: right;\n",
       "    }\n",
       "</style>\n",
       "<table border=\"1\" class=\"dataframe\">\n",
       "  <thead>\n",
       "    <tr style=\"text-align: right;\">\n",
       "      <th></th>\n",
       "      <th>country</th>\n",
       "      <th>count</th>\n",
       "    </tr>\n",
       "  </thead>\n",
       "  <tbody>\n",
       "    <tr>\n",
       "      <th>0</th>\n",
       "      <td>USA</td>\n",
       "      <td>297</td>\n",
       "    </tr>\n",
       "    <tr>\n",
       "      <th>1</th>\n",
       "      <td>Japan</td>\n",
       "      <td>109</td>\n",
       "    </tr>\n",
       "    <tr>\n",
       "      <th>2</th>\n",
       "      <td>France</td>\n",
       "      <td>19</td>\n",
       "    </tr>\n",
       "    <tr>\n",
       "      <th>3</th>\n",
       "      <td>South Korea</td>\n",
       "      <td>21</td>\n",
       "    </tr>\n",
       "    <tr>\n",
       "      <th>4</th>\n",
       "      <td>Switzerland</td>\n",
       "      <td>24</td>\n",
       "    </tr>\n",
       "    <tr>\n",
       "      <th>5</th>\n",
       "      <td>United Kingdom</td>\n",
       "      <td>29</td>\n",
       "    </tr>\n",
       "    <tr>\n",
       "      <th>6</th>\n",
       "      <td>Brazil</td>\n",
       "      <td>14</td>\n",
       "    </tr>\n",
       "    <tr>\n",
       "      <th>7</th>\n",
       "      <td>Taiwan</td>\n",
       "      <td>56</td>\n",
       "    </tr>\n",
       "    <tr>\n",
       "      <th>8</th>\n",
       "      <td>Spain</td>\n",
       "      <td>13</td>\n",
       "    </tr>\n",
       "    <tr>\n",
       "      <th>9</th>\n",
       "      <td>Finland</td>\n",
       "      <td>33</td>\n",
       "    </tr>\n",
       "    <tr>\n",
       "      <th>10</th>\n",
       "      <td>China</td>\n",
       "      <td>6</td>\n",
       "    </tr>\n",
       "    <tr>\n",
       "      <th>11</th>\n",
       "      <td>Canada</td>\n",
       "      <td>6</td>\n",
       "    </tr>\n",
       "    <tr>\n",
       "      <th>12</th>\n",
       "      <td>South Africa</td>\n",
       "      <td>11</td>\n",
       "    </tr>\n",
       "    <tr>\n",
       "      <th>13</th>\n",
       "      <td>Ireland</td>\n",
       "      <td>6</td>\n",
       "    </tr>\n",
       "    <tr>\n",
       "      <th>14</th>\n",
       "      <td>Belgium</td>\n",
       "      <td>8</td>\n",
       "    </tr>\n",
       "    <tr>\n",
       "      <th>15</th>\n",
       "      <td>India</td>\n",
       "      <td>16</td>\n",
       "    </tr>\n",
       "    <tr>\n",
       "      <th>16</th>\n",
       "      <td>Sweden</td>\n",
       "      <td>26</td>\n",
       "    </tr>\n",
       "    <tr>\n",
       "      <th>17</th>\n",
       "      <td>Germany</td>\n",
       "      <td>67</td>\n",
       "    </tr>\n",
       "    <tr>\n",
       "      <th>18</th>\n",
       "      <td>Australia</td>\n",
       "      <td>6</td>\n",
       "    </tr>\n",
       "    <tr>\n",
       "      <th>19</th>\n",
       "      <td>Chile</td>\n",
       "      <td>3</td>\n",
       "    </tr>\n",
       "    <tr>\n",
       "      <th>20</th>\n",
       "      <td>Lithuania</td>\n",
       "      <td>1</td>\n",
       "    </tr>\n",
       "    <tr>\n",
       "      <th>21</th>\n",
       "      <td>Italy</td>\n",
       "      <td>23</td>\n",
       "    </tr>\n",
       "    <tr>\n",
       "      <th>22</th>\n",
       "      <td>Netherlands</td>\n",
       "      <td>35</td>\n",
       "    </tr>\n",
       "    <tr>\n",
       "      <th>23</th>\n",
       "      <td>Colombia</td>\n",
       "      <td>2</td>\n",
       "    </tr>\n",
       "    <tr>\n",
       "      <th>24</th>\n",
       "      <td>Indonesia</td>\n",
       "      <td>1</td>\n",
       "    </tr>\n",
       "    <tr>\n",
       "      <th>25</th>\n",
       "      <td>Malaysia</td>\n",
       "      <td>4</td>\n",
       "    </tr>\n",
       "    <tr>\n",
       "      <th>26</th>\n",
       "      <td>Greece</td>\n",
       "      <td>1</td>\n",
       "    </tr>\n",
       "    <tr>\n",
       "      <th>27</th>\n",
       "      <td>Luxembourg</td>\n",
       "      <td>1</td>\n",
       "    </tr>\n",
       "  </tbody>\n",
       "</table>\n",
       "</div>"
      ],
      "text/plain": [
       "           country  count\n",
       "0              USA    297\n",
       "1            Japan    109\n",
       "2           France     19\n",
       "3      South Korea     21\n",
       "4      Switzerland     24\n",
       "5   United Kingdom     29\n",
       "6           Brazil     14\n",
       "7           Taiwan     56\n",
       "8            Spain     13\n",
       "9          Finland     33\n",
       "10           China      6\n",
       "11          Canada      6\n",
       "12    South Africa     11\n",
       "13         Ireland      6\n",
       "14         Belgium      8\n",
       "15           India     16\n",
       "16          Sweden     26\n",
       "17         Germany     67\n",
       "18       Australia      6\n",
       "19           Chile      3\n",
       "20       Lithuania      1\n",
       "21           Italy     23\n",
       "22     Netherlands     35\n",
       "23        Colombia      2\n",
       "24       Indonesia      1\n",
       "25        Malaysia      4\n",
       "26          Greece      1\n",
       "27      Luxembourg      1"
      ]
     },
     "execution_count": 92,
     "metadata": {},
     "output_type": "execute_result"
    }
   ],
   "source": [
    "#-- Select all information from product_emissions\n",
    "query = '''SELECT country, COUNT(*) AS count\n",
    "FROM carbon_em\n",
    "GROUP BY country;'''\n",
    "\n",
    "# Put it all to a data frame\n",
    "df = pd.read_sql(query, con = db)\n",
    "df"
   ]
  },
  {
   "cell_type": "code",
   "execution_count": 93,
   "id": "89ad019f",
   "metadata": {},
   "outputs": [
    {
     "data": {
      "application/vnd.plotly.v1+json": {
       "config": {
        "plotlyServerURL": "https://plot.ly"
       },
       "data": [
        {
         "alignmentgroup": "True",
         "hovertemplate": "country=%{x}<br>count=%{y}<extra></extra>",
         "legendgroup": "",
         "marker": {
          "color": "#636efa",
          "pattern": {
           "shape": ""
          }
         },
         "name": "",
         "offsetgroup": "",
         "orientation": "v",
         "showlegend": false,
         "textposition": "auto",
         "type": "bar",
         "x": [
          "USA",
          "Japan",
          "France",
          "South Korea",
          "Switzerland",
          "United Kingdom",
          "Brazil",
          "Taiwan",
          "Spain",
          "Finland",
          "China",
          "Canada",
          "South Africa",
          "Ireland",
          "Belgium",
          "India",
          "Sweden",
          "Germany",
          "Australia",
          "Chile",
          "Lithuania",
          "Italy",
          "Netherlands",
          "Colombia",
          "Indonesia",
          "Malaysia",
          "Greece",
          "Luxembourg"
         ],
         "xaxis": "x",
         "y": [
          297,
          109,
          19,
          21,
          24,
          29,
          14,
          56,
          13,
          33,
          6,
          6,
          11,
          6,
          8,
          16,
          26,
          67,
          6,
          3,
          1,
          23,
          35,
          2,
          1,
          4,
          1,
          1
         ],
         "yaxis": "y"
        }
       ],
       "layout": {
        "barmode": "relative",
        "legend": {
         "tracegroupgap": 0
        },
        "template": {
         "data": {
          "bar": [
           {
            "error_x": {
             "color": "#2a3f5f"
            },
            "error_y": {
             "color": "#2a3f5f"
            },
            "marker": {
             "line": {
              "color": "#E5ECF6",
              "width": 0.5
             },
             "pattern": {
              "fillmode": "overlay",
              "size": 10,
              "solidity": 0.2
             }
            },
            "type": "bar"
           }
          ],
          "barpolar": [
           {
            "marker": {
             "line": {
              "color": "#E5ECF6",
              "width": 0.5
             },
             "pattern": {
              "fillmode": "overlay",
              "size": 10,
              "solidity": 0.2
             }
            },
            "type": "barpolar"
           }
          ],
          "carpet": [
           {
            "aaxis": {
             "endlinecolor": "#2a3f5f",
             "gridcolor": "white",
             "linecolor": "white",
             "minorgridcolor": "white",
             "startlinecolor": "#2a3f5f"
            },
            "baxis": {
             "endlinecolor": "#2a3f5f",
             "gridcolor": "white",
             "linecolor": "white",
             "minorgridcolor": "white",
             "startlinecolor": "#2a3f5f"
            },
            "type": "carpet"
           }
          ],
          "choropleth": [
           {
            "colorbar": {
             "outlinewidth": 0,
             "ticks": ""
            },
            "type": "choropleth"
           }
          ],
          "contour": [
           {
            "colorbar": {
             "outlinewidth": 0,
             "ticks": ""
            },
            "colorscale": [
             [
              0,
              "#0d0887"
             ],
             [
              0.1111111111111111,
              "#46039f"
             ],
             [
              0.2222222222222222,
              "#7201a8"
             ],
             [
              0.3333333333333333,
              "#9c179e"
             ],
             [
              0.4444444444444444,
              "#bd3786"
             ],
             [
              0.5555555555555556,
              "#d8576b"
             ],
             [
              0.6666666666666666,
              "#ed7953"
             ],
             [
              0.7777777777777778,
              "#fb9f3a"
             ],
             [
              0.8888888888888888,
              "#fdca26"
             ],
             [
              1,
              "#f0f921"
             ]
            ],
            "type": "contour"
           }
          ],
          "contourcarpet": [
           {
            "colorbar": {
             "outlinewidth": 0,
             "ticks": ""
            },
            "type": "contourcarpet"
           }
          ],
          "heatmap": [
           {
            "colorbar": {
             "outlinewidth": 0,
             "ticks": ""
            },
            "colorscale": [
             [
              0,
              "#0d0887"
             ],
             [
              0.1111111111111111,
              "#46039f"
             ],
             [
              0.2222222222222222,
              "#7201a8"
             ],
             [
              0.3333333333333333,
              "#9c179e"
             ],
             [
              0.4444444444444444,
              "#bd3786"
             ],
             [
              0.5555555555555556,
              "#d8576b"
             ],
             [
              0.6666666666666666,
              "#ed7953"
             ],
             [
              0.7777777777777778,
              "#fb9f3a"
             ],
             [
              0.8888888888888888,
              "#fdca26"
             ],
             [
              1,
              "#f0f921"
             ]
            ],
            "type": "heatmap"
           }
          ],
          "heatmapgl": [
           {
            "colorbar": {
             "outlinewidth": 0,
             "ticks": ""
            },
            "colorscale": [
             [
              0,
              "#0d0887"
             ],
             [
              0.1111111111111111,
              "#46039f"
             ],
             [
              0.2222222222222222,
              "#7201a8"
             ],
             [
              0.3333333333333333,
              "#9c179e"
             ],
             [
              0.4444444444444444,
              "#bd3786"
             ],
             [
              0.5555555555555556,
              "#d8576b"
             ],
             [
              0.6666666666666666,
              "#ed7953"
             ],
             [
              0.7777777777777778,
              "#fb9f3a"
             ],
             [
              0.8888888888888888,
              "#fdca26"
             ],
             [
              1,
              "#f0f921"
             ]
            ],
            "type": "heatmapgl"
           }
          ],
          "histogram": [
           {
            "marker": {
             "pattern": {
              "fillmode": "overlay",
              "size": 10,
              "solidity": 0.2
             }
            },
            "type": "histogram"
           }
          ],
          "histogram2d": [
           {
            "colorbar": {
             "outlinewidth": 0,
             "ticks": ""
            },
            "colorscale": [
             [
              0,
              "#0d0887"
             ],
             [
              0.1111111111111111,
              "#46039f"
             ],
             [
              0.2222222222222222,
              "#7201a8"
             ],
             [
              0.3333333333333333,
              "#9c179e"
             ],
             [
              0.4444444444444444,
              "#bd3786"
             ],
             [
              0.5555555555555556,
              "#d8576b"
             ],
             [
              0.6666666666666666,
              "#ed7953"
             ],
             [
              0.7777777777777778,
              "#fb9f3a"
             ],
             [
              0.8888888888888888,
              "#fdca26"
             ],
             [
              1,
              "#f0f921"
             ]
            ],
            "type": "histogram2d"
           }
          ],
          "histogram2dcontour": [
           {
            "colorbar": {
             "outlinewidth": 0,
             "ticks": ""
            },
            "colorscale": [
             [
              0,
              "#0d0887"
             ],
             [
              0.1111111111111111,
              "#46039f"
             ],
             [
              0.2222222222222222,
              "#7201a8"
             ],
             [
              0.3333333333333333,
              "#9c179e"
             ],
             [
              0.4444444444444444,
              "#bd3786"
             ],
             [
              0.5555555555555556,
              "#d8576b"
             ],
             [
              0.6666666666666666,
              "#ed7953"
             ],
             [
              0.7777777777777778,
              "#fb9f3a"
             ],
             [
              0.8888888888888888,
              "#fdca26"
             ],
             [
              1,
              "#f0f921"
             ]
            ],
            "type": "histogram2dcontour"
           }
          ],
          "mesh3d": [
           {
            "colorbar": {
             "outlinewidth": 0,
             "ticks": ""
            },
            "type": "mesh3d"
           }
          ],
          "parcoords": [
           {
            "line": {
             "colorbar": {
              "outlinewidth": 0,
              "ticks": ""
             }
            },
            "type": "parcoords"
           }
          ],
          "pie": [
           {
            "automargin": true,
            "type": "pie"
           }
          ],
          "scatter": [
           {
            "fillpattern": {
             "fillmode": "overlay",
             "size": 10,
             "solidity": 0.2
            },
            "type": "scatter"
           }
          ],
          "scatter3d": [
           {
            "line": {
             "colorbar": {
              "outlinewidth": 0,
              "ticks": ""
             }
            },
            "marker": {
             "colorbar": {
              "outlinewidth": 0,
              "ticks": ""
             }
            },
            "type": "scatter3d"
           }
          ],
          "scattercarpet": [
           {
            "marker": {
             "colorbar": {
              "outlinewidth": 0,
              "ticks": ""
             }
            },
            "type": "scattercarpet"
           }
          ],
          "scattergeo": [
           {
            "marker": {
             "colorbar": {
              "outlinewidth": 0,
              "ticks": ""
             }
            },
            "type": "scattergeo"
           }
          ],
          "scattergl": [
           {
            "marker": {
             "colorbar": {
              "outlinewidth": 0,
              "ticks": ""
             }
            },
            "type": "scattergl"
           }
          ],
          "scattermapbox": [
           {
            "marker": {
             "colorbar": {
              "outlinewidth": 0,
              "ticks": ""
             }
            },
            "type": "scattermapbox"
           }
          ],
          "scatterpolar": [
           {
            "marker": {
             "colorbar": {
              "outlinewidth": 0,
              "ticks": ""
             }
            },
            "type": "scatterpolar"
           }
          ],
          "scatterpolargl": [
           {
            "marker": {
             "colorbar": {
              "outlinewidth": 0,
              "ticks": ""
             }
            },
            "type": "scatterpolargl"
           }
          ],
          "scatterternary": [
           {
            "marker": {
             "colorbar": {
              "outlinewidth": 0,
              "ticks": ""
             }
            },
            "type": "scatterternary"
           }
          ],
          "surface": [
           {
            "colorbar": {
             "outlinewidth": 0,
             "ticks": ""
            },
            "colorscale": [
             [
              0,
              "#0d0887"
             ],
             [
              0.1111111111111111,
              "#46039f"
             ],
             [
              0.2222222222222222,
              "#7201a8"
             ],
             [
              0.3333333333333333,
              "#9c179e"
             ],
             [
              0.4444444444444444,
              "#bd3786"
             ],
             [
              0.5555555555555556,
              "#d8576b"
             ],
             [
              0.6666666666666666,
              "#ed7953"
             ],
             [
              0.7777777777777778,
              "#fb9f3a"
             ],
             [
              0.8888888888888888,
              "#fdca26"
             ],
             [
              1,
              "#f0f921"
             ]
            ],
            "type": "surface"
           }
          ],
          "table": [
           {
            "cells": {
             "fill": {
              "color": "#EBF0F8"
             },
             "line": {
              "color": "white"
             }
            },
            "header": {
             "fill": {
              "color": "#C8D4E3"
             },
             "line": {
              "color": "white"
             }
            },
            "type": "table"
           }
          ]
         },
         "layout": {
          "annotationdefaults": {
           "arrowcolor": "#2a3f5f",
           "arrowhead": 0,
           "arrowwidth": 1
          },
          "autotypenumbers": "strict",
          "coloraxis": {
           "colorbar": {
            "outlinewidth": 0,
            "ticks": ""
           }
          },
          "colorscale": {
           "diverging": [
            [
             0,
             "#8e0152"
            ],
            [
             0.1,
             "#c51b7d"
            ],
            [
             0.2,
             "#de77ae"
            ],
            [
             0.3,
             "#f1b6da"
            ],
            [
             0.4,
             "#fde0ef"
            ],
            [
             0.5,
             "#f7f7f7"
            ],
            [
             0.6,
             "#e6f5d0"
            ],
            [
             0.7,
             "#b8e186"
            ],
            [
             0.8,
             "#7fbc41"
            ],
            [
             0.9,
             "#4d9221"
            ],
            [
             1,
             "#276419"
            ]
           ],
           "sequential": [
            [
             0,
             "#0d0887"
            ],
            [
             0.1111111111111111,
             "#46039f"
            ],
            [
             0.2222222222222222,
             "#7201a8"
            ],
            [
             0.3333333333333333,
             "#9c179e"
            ],
            [
             0.4444444444444444,
             "#bd3786"
            ],
            [
             0.5555555555555556,
             "#d8576b"
            ],
            [
             0.6666666666666666,
             "#ed7953"
            ],
            [
             0.7777777777777778,
             "#fb9f3a"
            ],
            [
             0.8888888888888888,
             "#fdca26"
            ],
            [
             1,
             "#f0f921"
            ]
           ],
           "sequentialminus": [
            [
             0,
             "#0d0887"
            ],
            [
             0.1111111111111111,
             "#46039f"
            ],
            [
             0.2222222222222222,
             "#7201a8"
            ],
            [
             0.3333333333333333,
             "#9c179e"
            ],
            [
             0.4444444444444444,
             "#bd3786"
            ],
            [
             0.5555555555555556,
             "#d8576b"
            ],
            [
             0.6666666666666666,
             "#ed7953"
            ],
            [
             0.7777777777777778,
             "#fb9f3a"
            ],
            [
             0.8888888888888888,
             "#fdca26"
            ],
            [
             1,
             "#f0f921"
            ]
           ]
          },
          "colorway": [
           "#636efa",
           "#EF553B",
           "#00cc96",
           "#ab63fa",
           "#FFA15A",
           "#19d3f3",
           "#FF6692",
           "#B6E880",
           "#FF97FF",
           "#FECB52"
          ],
          "font": {
           "color": "#2a3f5f"
          },
          "geo": {
           "bgcolor": "white",
           "lakecolor": "white",
           "landcolor": "#E5ECF6",
           "showlakes": true,
           "showland": true,
           "subunitcolor": "white"
          },
          "hoverlabel": {
           "align": "left"
          },
          "hovermode": "closest",
          "mapbox": {
           "style": "light"
          },
          "paper_bgcolor": "white",
          "plot_bgcolor": "#E5ECF6",
          "polar": {
           "angularaxis": {
            "gridcolor": "white",
            "linecolor": "white",
            "ticks": ""
           },
           "bgcolor": "#E5ECF6",
           "radialaxis": {
            "gridcolor": "white",
            "linecolor": "white",
            "ticks": ""
           }
          },
          "scene": {
           "xaxis": {
            "backgroundcolor": "#E5ECF6",
            "gridcolor": "white",
            "gridwidth": 2,
            "linecolor": "white",
            "showbackground": true,
            "ticks": "",
            "zerolinecolor": "white"
           },
           "yaxis": {
            "backgroundcolor": "#E5ECF6",
            "gridcolor": "white",
            "gridwidth": 2,
            "linecolor": "white",
            "showbackground": true,
            "ticks": "",
            "zerolinecolor": "white"
           },
           "zaxis": {
            "backgroundcolor": "#E5ECF6",
            "gridcolor": "white",
            "gridwidth": 2,
            "linecolor": "white",
            "showbackground": true,
            "ticks": "",
            "zerolinecolor": "white"
           }
          },
          "shapedefaults": {
           "line": {
            "color": "#2a3f5f"
           }
          },
          "ternary": {
           "aaxis": {
            "gridcolor": "white",
            "linecolor": "white",
            "ticks": ""
           },
           "baxis": {
            "gridcolor": "white",
            "linecolor": "white",
            "ticks": ""
           },
           "bgcolor": "#E5ECF6",
           "caxis": {
            "gridcolor": "white",
            "linecolor": "white",
            "ticks": ""
           }
          },
          "title": {
           "x": 0.05
          },
          "xaxis": {
           "automargin": true,
           "gridcolor": "white",
           "linecolor": "white",
           "ticks": "",
           "title": {
            "standoff": 15
           },
           "zerolinecolor": "white",
           "zerolinewidth": 2
          },
          "yaxis": {
           "automargin": true,
           "gridcolor": "white",
           "linecolor": "white",
           "ticks": "",
           "title": {
            "standoff": 15
           },
           "zerolinecolor": "white",
           "zerolinewidth": 2
          }
         }
        },
        "title": {
         "text": "Country Distribution"
        },
        "xaxis": {
         "anchor": "y",
         "domain": [
          0,
          1
         ],
         "title": {
          "text": "country"
         }
        },
        "yaxis": {
         "anchor": "x",
         "domain": [
          0,
          1
         ],
         "title": {
          "text": "count"
         }
        }
       }
      },
      "text/html": [
       "<div>                            <div id=\"0d0906fc-0a56-4745-86dd-f3d1610e899c\" class=\"plotly-graph-div\" style=\"height:525px; width:100%;\"></div>            <script type=\"text/javascript\">                require([\"plotly\"], function(Plotly) {                    window.PLOTLYENV=window.PLOTLYENV || {};                                    if (document.getElementById(\"0d0906fc-0a56-4745-86dd-f3d1610e899c\")) {                    Plotly.newPlot(                        \"0d0906fc-0a56-4745-86dd-f3d1610e899c\",                        [{\"alignmentgroup\":\"True\",\"hovertemplate\":\"country=%{x}<br>count=%{y}<extra></extra>\",\"legendgroup\":\"\",\"marker\":{\"color\":\"#636efa\",\"pattern\":{\"shape\":\"\"}},\"name\":\"\",\"offsetgroup\":\"\",\"orientation\":\"v\",\"showlegend\":false,\"textposition\":\"auto\",\"x\":[\"USA\",\"Japan\",\"France\",\"South Korea\",\"Switzerland\",\"United Kingdom\",\"Brazil\",\"Taiwan\",\"Spain\",\"Finland\",\"China\",\"Canada\",\"South Africa\",\"Ireland\",\"Belgium\",\"India\",\"Sweden\",\"Germany\",\"Australia\",\"Chile\",\"Lithuania\",\"Italy\",\"Netherlands\",\"Colombia\",\"Indonesia\",\"Malaysia\",\"Greece\",\"Luxembourg\"],\"xaxis\":\"x\",\"y\":[297,109,19,21,24,29,14,56,13,33,6,6,11,6,8,16,26,67,6,3,1,23,35,2,1,4,1,1],\"yaxis\":\"y\",\"type\":\"bar\"}],                        {\"template\":{\"data\":{\"histogram2dcontour\":[{\"type\":\"histogram2dcontour\",\"colorbar\":{\"outlinewidth\":0,\"ticks\":\"\"},\"colorscale\":[[0.0,\"#0d0887\"],[0.1111111111111111,\"#46039f\"],[0.2222222222222222,\"#7201a8\"],[0.3333333333333333,\"#9c179e\"],[0.4444444444444444,\"#bd3786\"],[0.5555555555555556,\"#d8576b\"],[0.6666666666666666,\"#ed7953\"],[0.7777777777777778,\"#fb9f3a\"],[0.8888888888888888,\"#fdca26\"],[1.0,\"#f0f921\"]]}],\"choropleth\":[{\"type\":\"choropleth\",\"colorbar\":{\"outlinewidth\":0,\"ticks\":\"\"}}],\"histogram2d\":[{\"type\":\"histogram2d\",\"colorbar\":{\"outlinewidth\":0,\"ticks\":\"\"},\"colorscale\":[[0.0,\"#0d0887\"],[0.1111111111111111,\"#46039f\"],[0.2222222222222222,\"#7201a8\"],[0.3333333333333333,\"#9c179e\"],[0.4444444444444444,\"#bd3786\"],[0.5555555555555556,\"#d8576b\"],[0.6666666666666666,\"#ed7953\"],[0.7777777777777778,\"#fb9f3a\"],[0.8888888888888888,\"#fdca26\"],[1.0,\"#f0f921\"]]}],\"heatmap\":[{\"type\":\"heatmap\",\"colorbar\":{\"outlinewidth\":0,\"ticks\":\"\"},\"colorscale\":[[0.0,\"#0d0887\"],[0.1111111111111111,\"#46039f\"],[0.2222222222222222,\"#7201a8\"],[0.3333333333333333,\"#9c179e\"],[0.4444444444444444,\"#bd3786\"],[0.5555555555555556,\"#d8576b\"],[0.6666666666666666,\"#ed7953\"],[0.7777777777777778,\"#fb9f3a\"],[0.8888888888888888,\"#fdca26\"],[1.0,\"#f0f921\"]]}],\"heatmapgl\":[{\"type\":\"heatmapgl\",\"colorbar\":{\"outlinewidth\":0,\"ticks\":\"\"},\"colorscale\":[[0.0,\"#0d0887\"],[0.1111111111111111,\"#46039f\"],[0.2222222222222222,\"#7201a8\"],[0.3333333333333333,\"#9c179e\"],[0.4444444444444444,\"#bd3786\"],[0.5555555555555556,\"#d8576b\"],[0.6666666666666666,\"#ed7953\"],[0.7777777777777778,\"#fb9f3a\"],[0.8888888888888888,\"#fdca26\"],[1.0,\"#f0f921\"]]}],\"contourcarpet\":[{\"type\":\"contourcarpet\",\"colorbar\":{\"outlinewidth\":0,\"ticks\":\"\"}}],\"contour\":[{\"type\":\"contour\",\"colorbar\":{\"outlinewidth\":0,\"ticks\":\"\"},\"colorscale\":[[0.0,\"#0d0887\"],[0.1111111111111111,\"#46039f\"],[0.2222222222222222,\"#7201a8\"],[0.3333333333333333,\"#9c179e\"],[0.4444444444444444,\"#bd3786\"],[0.5555555555555556,\"#d8576b\"],[0.6666666666666666,\"#ed7953\"],[0.7777777777777778,\"#fb9f3a\"],[0.8888888888888888,\"#fdca26\"],[1.0,\"#f0f921\"]]}],\"surface\":[{\"type\":\"surface\",\"colorbar\":{\"outlinewidth\":0,\"ticks\":\"\"},\"colorscale\":[[0.0,\"#0d0887\"],[0.1111111111111111,\"#46039f\"],[0.2222222222222222,\"#7201a8\"],[0.3333333333333333,\"#9c179e\"],[0.4444444444444444,\"#bd3786\"],[0.5555555555555556,\"#d8576b\"],[0.6666666666666666,\"#ed7953\"],[0.7777777777777778,\"#fb9f3a\"],[0.8888888888888888,\"#fdca26\"],[1.0,\"#f0f921\"]]}],\"mesh3d\":[{\"type\":\"mesh3d\",\"colorbar\":{\"outlinewidth\":0,\"ticks\":\"\"}}],\"scatter\":[{\"fillpattern\":{\"fillmode\":\"overlay\",\"size\":10,\"solidity\":0.2},\"type\":\"scatter\"}],\"parcoords\":[{\"type\":\"parcoords\",\"line\":{\"colorbar\":{\"outlinewidth\":0,\"ticks\":\"\"}}}],\"scatterpolargl\":[{\"type\":\"scatterpolargl\",\"marker\":{\"colorbar\":{\"outlinewidth\":0,\"ticks\":\"\"}}}],\"bar\":[{\"error_x\":{\"color\":\"#2a3f5f\"},\"error_y\":{\"color\":\"#2a3f5f\"},\"marker\":{\"line\":{\"color\":\"#E5ECF6\",\"width\":0.5},\"pattern\":{\"fillmode\":\"overlay\",\"size\":10,\"solidity\":0.2}},\"type\":\"bar\"}],\"scattergeo\":[{\"type\":\"scattergeo\",\"marker\":{\"colorbar\":{\"outlinewidth\":0,\"ticks\":\"\"}}}],\"scatterpolar\":[{\"type\":\"scatterpolar\",\"marker\":{\"colorbar\":{\"outlinewidth\":0,\"ticks\":\"\"}}}],\"histogram\":[{\"marker\":{\"pattern\":{\"fillmode\":\"overlay\",\"size\":10,\"solidity\":0.2}},\"type\":\"histogram\"}],\"scattergl\":[{\"type\":\"scattergl\",\"marker\":{\"colorbar\":{\"outlinewidth\":0,\"ticks\":\"\"}}}],\"scatter3d\":[{\"type\":\"scatter3d\",\"line\":{\"colorbar\":{\"outlinewidth\":0,\"ticks\":\"\"}},\"marker\":{\"colorbar\":{\"outlinewidth\":0,\"ticks\":\"\"}}}],\"scattermapbox\":[{\"type\":\"scattermapbox\",\"marker\":{\"colorbar\":{\"outlinewidth\":0,\"ticks\":\"\"}}}],\"scatterternary\":[{\"type\":\"scatterternary\",\"marker\":{\"colorbar\":{\"outlinewidth\":0,\"ticks\":\"\"}}}],\"scattercarpet\":[{\"type\":\"scattercarpet\",\"marker\":{\"colorbar\":{\"outlinewidth\":0,\"ticks\":\"\"}}}],\"carpet\":[{\"aaxis\":{\"endlinecolor\":\"#2a3f5f\",\"gridcolor\":\"white\",\"linecolor\":\"white\",\"minorgridcolor\":\"white\",\"startlinecolor\":\"#2a3f5f\"},\"baxis\":{\"endlinecolor\":\"#2a3f5f\",\"gridcolor\":\"white\",\"linecolor\":\"white\",\"minorgridcolor\":\"white\",\"startlinecolor\":\"#2a3f5f\"},\"type\":\"carpet\"}],\"table\":[{\"cells\":{\"fill\":{\"color\":\"#EBF0F8\"},\"line\":{\"color\":\"white\"}},\"header\":{\"fill\":{\"color\":\"#C8D4E3\"},\"line\":{\"color\":\"white\"}},\"type\":\"table\"}],\"barpolar\":[{\"marker\":{\"line\":{\"color\":\"#E5ECF6\",\"width\":0.5},\"pattern\":{\"fillmode\":\"overlay\",\"size\":10,\"solidity\":0.2}},\"type\":\"barpolar\"}],\"pie\":[{\"automargin\":true,\"type\":\"pie\"}]},\"layout\":{\"autotypenumbers\":\"strict\",\"colorway\":[\"#636efa\",\"#EF553B\",\"#00cc96\",\"#ab63fa\",\"#FFA15A\",\"#19d3f3\",\"#FF6692\",\"#B6E880\",\"#FF97FF\",\"#FECB52\"],\"font\":{\"color\":\"#2a3f5f\"},\"hovermode\":\"closest\",\"hoverlabel\":{\"align\":\"left\"},\"paper_bgcolor\":\"white\",\"plot_bgcolor\":\"#E5ECF6\",\"polar\":{\"bgcolor\":\"#E5ECF6\",\"angularaxis\":{\"gridcolor\":\"white\",\"linecolor\":\"white\",\"ticks\":\"\"},\"radialaxis\":{\"gridcolor\":\"white\",\"linecolor\":\"white\",\"ticks\":\"\"}},\"ternary\":{\"bgcolor\":\"#E5ECF6\",\"aaxis\":{\"gridcolor\":\"white\",\"linecolor\":\"white\",\"ticks\":\"\"},\"baxis\":{\"gridcolor\":\"white\",\"linecolor\":\"white\",\"ticks\":\"\"},\"caxis\":{\"gridcolor\":\"white\",\"linecolor\":\"white\",\"ticks\":\"\"}},\"coloraxis\":{\"colorbar\":{\"outlinewidth\":0,\"ticks\":\"\"}},\"colorscale\":{\"sequential\":[[0.0,\"#0d0887\"],[0.1111111111111111,\"#46039f\"],[0.2222222222222222,\"#7201a8\"],[0.3333333333333333,\"#9c179e\"],[0.4444444444444444,\"#bd3786\"],[0.5555555555555556,\"#d8576b\"],[0.6666666666666666,\"#ed7953\"],[0.7777777777777778,\"#fb9f3a\"],[0.8888888888888888,\"#fdca26\"],[1.0,\"#f0f921\"]],\"sequentialminus\":[[0.0,\"#0d0887\"],[0.1111111111111111,\"#46039f\"],[0.2222222222222222,\"#7201a8\"],[0.3333333333333333,\"#9c179e\"],[0.4444444444444444,\"#bd3786\"],[0.5555555555555556,\"#d8576b\"],[0.6666666666666666,\"#ed7953\"],[0.7777777777777778,\"#fb9f3a\"],[0.8888888888888888,\"#fdca26\"],[1.0,\"#f0f921\"]],\"diverging\":[[0,\"#8e0152\"],[0.1,\"#c51b7d\"],[0.2,\"#de77ae\"],[0.3,\"#f1b6da\"],[0.4,\"#fde0ef\"],[0.5,\"#f7f7f7\"],[0.6,\"#e6f5d0\"],[0.7,\"#b8e186\"],[0.8,\"#7fbc41\"],[0.9,\"#4d9221\"],[1,\"#276419\"]]},\"xaxis\":{\"gridcolor\":\"white\",\"linecolor\":\"white\",\"ticks\":\"\",\"title\":{\"standoff\":15},\"zerolinecolor\":\"white\",\"automargin\":true,\"zerolinewidth\":2},\"yaxis\":{\"gridcolor\":\"white\",\"linecolor\":\"white\",\"ticks\":\"\",\"title\":{\"standoff\":15},\"zerolinecolor\":\"white\",\"automargin\":true,\"zerolinewidth\":2},\"scene\":{\"xaxis\":{\"backgroundcolor\":\"#E5ECF6\",\"gridcolor\":\"white\",\"linecolor\":\"white\",\"showbackground\":true,\"ticks\":\"\",\"zerolinecolor\":\"white\",\"gridwidth\":2},\"yaxis\":{\"backgroundcolor\":\"#E5ECF6\",\"gridcolor\":\"white\",\"linecolor\":\"white\",\"showbackground\":true,\"ticks\":\"\",\"zerolinecolor\":\"white\",\"gridwidth\":2},\"zaxis\":{\"backgroundcolor\":\"#E5ECF6\",\"gridcolor\":\"white\",\"linecolor\":\"white\",\"showbackground\":true,\"ticks\":\"\",\"zerolinecolor\":\"white\",\"gridwidth\":2}},\"shapedefaults\":{\"line\":{\"color\":\"#2a3f5f\"}},\"annotationdefaults\":{\"arrowcolor\":\"#2a3f5f\",\"arrowhead\":0,\"arrowwidth\":1},\"geo\":{\"bgcolor\":\"white\",\"landcolor\":\"#E5ECF6\",\"subunitcolor\":\"white\",\"showland\":true,\"showlakes\":true,\"lakecolor\":\"white\"},\"title\":{\"x\":0.05},\"mapbox\":{\"style\":\"light\"}}},\"xaxis\":{\"anchor\":\"y\",\"domain\":[0.0,1.0],\"title\":{\"text\":\"country\"}},\"yaxis\":{\"anchor\":\"x\",\"domain\":[0.0,1.0],\"title\":{\"text\":\"count\"}},\"legend\":{\"tracegroupgap\":0},\"title\":{\"text\":\"Country Distribution\"},\"barmode\":\"relative\"},                        {\"responsive\": true}                    ).then(function(){\n",
       "                            \n",
       "var gd = document.getElementById('0d0906fc-0a56-4745-86dd-f3d1610e899c');\n",
       "var x = new MutationObserver(function (mutations, observer) {{\n",
       "        var display = window.getComputedStyle(gd).display;\n",
       "        if (!display || display === 'none') {{\n",
       "            console.log([gd, 'removed!']);\n",
       "            Plotly.purge(gd);\n",
       "            observer.disconnect();\n",
       "        }}\n",
       "}});\n",
       "\n",
       "// Listen for the removal of the full notebook cells\n",
       "var notebookContainer = gd.closest('#notebook-container');\n",
       "if (notebookContainer) {{\n",
       "    x.observe(notebookContainer, {childList: true});\n",
       "}}\n",
       "\n",
       "// Listen for the clearing of the current output cell\n",
       "var outputEl = gd.closest('.output');\n",
       "if (outputEl) {{\n",
       "    x.observe(outputEl, {childList: true});\n",
       "}}\n",
       "\n",
       "                        })                };                });            </script>        </div>"
      ]
     },
     "metadata": {},
     "output_type": "display_data"
    }
   ],
   "source": [
    "fig1 = px.bar(df, x=\"country\", y=\"count\", orientation='v', title='Country Distribution')\n",
    "fig1.show()"
   ]
  },
  {
   "cell_type": "markdown",
   "id": "c9386f98",
   "metadata": {},
   "source": [
    "## 8: Emissions by country"
   ]
  },
  {
   "cell_type": "markdown",
   "id": "5da7e88f",
   "metadata": {},
   "source": [
    "How does this compare to the emissions of companies reporting from each country?"
   ]
  },
  {
   "cell_type": "markdown",
   "id": "7ad82c51",
   "metadata": {},
   "source": [
    "- First, get the results of interest using SQL: grouping by country, select `country` and the sum of `total carbon_footprint_pcf` by country, aliasing as `total_country_footprint`."
   ]
  },
  {
   "cell_type": "code",
   "execution_count": 97,
   "id": "6e008eef",
   "metadata": {},
   "outputs": [
    {
     "data": {
      "text/html": [
       "<div>\n",
       "<style scoped>\n",
       "    .dataframe tbody tr th:only-of-type {\n",
       "        vertical-align: middle;\n",
       "    }\n",
       "\n",
       "    .dataframe tbody tr th {\n",
       "        vertical-align: top;\n",
       "    }\n",
       "\n",
       "    .dataframe thead th {\n",
       "        text-align: right;\n",
       "    }\n",
       "</style>\n",
       "<table border=\"1\" class=\"dataframe\">\n",
       "  <thead>\n",
       "    <tr style=\"text-align: right;\">\n",
       "      <th></th>\n",
       "      <th>country</th>\n",
       "      <th>total_country_footprint</th>\n",
       "    </tr>\n",
       "  </thead>\n",
       "  <tbody>\n",
       "    <tr>\n",
       "      <th>0</th>\n",
       "      <td>USA</td>\n",
       "      <td>425979.0</td>\n",
       "    </tr>\n",
       "    <tr>\n",
       "      <th>1</th>\n",
       "      <td>Japan</td>\n",
       "      <td>513208.0</td>\n",
       "    </tr>\n",
       "    <tr>\n",
       "      <th>2</th>\n",
       "      <td>France</td>\n",
       "      <td>1594.0</td>\n",
       "    </tr>\n",
       "    <tr>\n",
       "      <th>3</th>\n",
       "      <td>South Korea</td>\n",
       "      <td>137798.0</td>\n",
       "    </tr>\n",
       "    <tr>\n",
       "      <th>4</th>\n",
       "      <td>Switzerland</td>\n",
       "      <td>139.0</td>\n",
       "    </tr>\n",
       "    <tr>\n",
       "      <th>5</th>\n",
       "      <td>United Kingdom</td>\n",
       "      <td>6566.0</td>\n",
       "    </tr>\n",
       "    <tr>\n",
       "      <th>6</th>\n",
       "      <td>Brazil</td>\n",
       "      <td>167583.0</td>\n",
       "    </tr>\n",
       "    <tr>\n",
       "      <th>7</th>\n",
       "      <td>Taiwan</td>\n",
       "      <td>61408.0</td>\n",
       "    </tr>\n",
       "    <tr>\n",
       "      <th>8</th>\n",
       "      <td>Spain</td>\n",
       "      <td>9786127.0</td>\n",
       "    </tr>\n",
       "    <tr>\n",
       "      <th>9</th>\n",
       "      <td>Finland</td>\n",
       "      <td>20824.0</td>\n",
       "    </tr>\n",
       "    <tr>\n",
       "      <th>10</th>\n",
       "      <td>China</td>\n",
       "      <td>143.0</td>\n",
       "    </tr>\n",
       "    <tr>\n",
       "      <th>11</th>\n",
       "      <td>Canada</td>\n",
       "      <td>382.0</td>\n",
       "    </tr>\n",
       "    <tr>\n",
       "      <th>12</th>\n",
       "      <td>South Africa</td>\n",
       "      <td>12312.0</td>\n",
       "    </tr>\n",
       "    <tr>\n",
       "      <th>13</th>\n",
       "      <td>Ireland</td>\n",
       "      <td>5130.0</td>\n",
       "    </tr>\n",
       "    <tr>\n",
       "      <th>14</th>\n",
       "      <td>Belgium</td>\n",
       "      <td>8.0</td>\n",
       "    </tr>\n",
       "    <tr>\n",
       "      <th>15</th>\n",
       "      <td>India</td>\n",
       "      <td>24574.0</td>\n",
       "    </tr>\n",
       "    <tr>\n",
       "      <th>16</th>\n",
       "      <td>Sweden</td>\n",
       "      <td>4533.0</td>\n",
       "    </tr>\n",
       "    <tr>\n",
       "      <th>17</th>\n",
       "      <td>Germany</td>\n",
       "      <td>2251225.0</td>\n",
       "    </tr>\n",
       "    <tr>\n",
       "      <th>18</th>\n",
       "      <td>Australia</td>\n",
       "      <td>239.0</td>\n",
       "    </tr>\n",
       "    <tr>\n",
       "      <th>19</th>\n",
       "      <td>Chile</td>\n",
       "      <td>1555.0</td>\n",
       "    </tr>\n",
       "    <tr>\n",
       "      <th>20</th>\n",
       "      <td>Lithuania</td>\n",
       "      <td>0.0</td>\n",
       "    </tr>\n",
       "    <tr>\n",
       "      <th>21</th>\n",
       "      <td>Italy</td>\n",
       "      <td>18.0</td>\n",
       "    </tr>\n",
       "    <tr>\n",
       "      <th>22</th>\n",
       "      <td>Netherlands</td>\n",
       "      <td>70417.0</td>\n",
       "    </tr>\n",
       "    <tr>\n",
       "      <th>23</th>\n",
       "      <td>Colombia</td>\n",
       "      <td>0.0</td>\n",
       "    </tr>\n",
       "    <tr>\n",
       "      <th>24</th>\n",
       "      <td>Indonesia</td>\n",
       "      <td>721.0</td>\n",
       "    </tr>\n",
       "    <tr>\n",
       "      <th>25</th>\n",
       "      <td>Malaysia</td>\n",
       "      <td>235.0</td>\n",
       "    </tr>\n",
       "    <tr>\n",
       "      <th>26</th>\n",
       "      <td>Greece</td>\n",
       "      <td>1.0</td>\n",
       "    </tr>\n",
       "    <tr>\n",
       "      <th>27</th>\n",
       "      <td>Luxembourg</td>\n",
       "      <td>167000.0</td>\n",
       "    </tr>\n",
       "  </tbody>\n",
       "</table>\n",
       "</div>"
      ],
      "text/plain": [
       "           country  total_country_footprint\n",
       "0              USA                 425979.0\n",
       "1            Japan                 513208.0\n",
       "2           France                   1594.0\n",
       "3      South Korea                 137798.0\n",
       "4      Switzerland                    139.0\n",
       "5   United Kingdom                   6566.0\n",
       "6           Brazil                 167583.0\n",
       "7           Taiwan                  61408.0\n",
       "8            Spain                9786127.0\n",
       "9          Finland                  20824.0\n",
       "10           China                    143.0\n",
       "11          Canada                    382.0\n",
       "12    South Africa                  12312.0\n",
       "13         Ireland                   5130.0\n",
       "14         Belgium                      8.0\n",
       "15           India                  24574.0\n",
       "16          Sweden                   4533.0\n",
       "17         Germany                2251225.0\n",
       "18       Australia                    239.0\n",
       "19           Chile                   1555.0\n",
       "20       Lithuania                      0.0\n",
       "21           Italy                     18.0\n",
       "22     Netherlands                  70417.0\n",
       "23        Colombia                      0.0\n",
       "24       Indonesia                    721.0\n",
       "25        Malaysia                    235.0\n",
       "26          Greece                      1.0\n",
       "27      Luxembourg                 167000.0"
      ]
     },
     "execution_count": 97,
     "metadata": {},
     "output_type": "execute_result"
    }
   ],
   "source": [
    "query = '''SELECT country, SUM(carbon_footprint_pcf) AS total_country_footprint\n",
    "FROM carbon_em\n",
    "GROUP BY country;'''\n",
    "\n",
    "# Put it all to a data frame\n",
    "df = pd.read_sql(query, con = db)\n",
    "df"
   ]
  },
  {
   "cell_type": "code",
   "execution_count": 98,
   "id": "71835d1c",
   "metadata": {},
   "outputs": [
    {
     "data": {
      "application/vnd.plotly.v1+json": {
       "config": {
        "plotlyServerURL": "https://plot.ly"
       },
       "data": [
        {
         "alignmentgroup": "True",
         "hovertemplate": "country=%{x}<br>total_country_footprint=%{y}<extra></extra>",
         "legendgroup": "",
         "marker": {
          "color": "#636efa",
          "pattern": {
           "shape": ""
          }
         },
         "name": "",
         "offsetgroup": "",
         "orientation": "v",
         "showlegend": false,
         "textposition": "auto",
         "type": "bar",
         "x": [
          "USA",
          "Japan",
          "France",
          "South Korea",
          "Switzerland",
          "United Kingdom",
          "Brazil",
          "Taiwan",
          "Spain",
          "Finland",
          "China",
          "Canada",
          "South Africa",
          "Ireland",
          "Belgium",
          "India",
          "Sweden",
          "Germany",
          "Australia",
          "Chile",
          "Lithuania",
          "Italy",
          "Netherlands",
          "Colombia",
          "Indonesia",
          "Malaysia",
          "Greece",
          "Luxembourg"
         ],
         "xaxis": "x",
         "y": [
          425979,
          513208,
          1594,
          137798,
          139,
          6566,
          167583,
          61408,
          9786127,
          20824,
          143,
          382,
          12312,
          5130,
          8,
          24574,
          4533,
          2251225,
          239,
          1555,
          0,
          18,
          70417,
          0,
          721,
          235,
          1,
          167000
         ],
         "yaxis": "y"
        }
       ],
       "layout": {
        "barmode": "relative",
        "legend": {
         "tracegroupgap": 0
        },
        "template": {
         "data": {
          "bar": [
           {
            "error_x": {
             "color": "#2a3f5f"
            },
            "error_y": {
             "color": "#2a3f5f"
            },
            "marker": {
             "line": {
              "color": "#E5ECF6",
              "width": 0.5
             },
             "pattern": {
              "fillmode": "overlay",
              "size": 10,
              "solidity": 0.2
             }
            },
            "type": "bar"
           }
          ],
          "barpolar": [
           {
            "marker": {
             "line": {
              "color": "#E5ECF6",
              "width": 0.5
             },
             "pattern": {
              "fillmode": "overlay",
              "size": 10,
              "solidity": 0.2
             }
            },
            "type": "barpolar"
           }
          ],
          "carpet": [
           {
            "aaxis": {
             "endlinecolor": "#2a3f5f",
             "gridcolor": "white",
             "linecolor": "white",
             "minorgridcolor": "white",
             "startlinecolor": "#2a3f5f"
            },
            "baxis": {
             "endlinecolor": "#2a3f5f",
             "gridcolor": "white",
             "linecolor": "white",
             "minorgridcolor": "white",
             "startlinecolor": "#2a3f5f"
            },
            "type": "carpet"
           }
          ],
          "choropleth": [
           {
            "colorbar": {
             "outlinewidth": 0,
             "ticks": ""
            },
            "type": "choropleth"
           }
          ],
          "contour": [
           {
            "colorbar": {
             "outlinewidth": 0,
             "ticks": ""
            },
            "colorscale": [
             [
              0,
              "#0d0887"
             ],
             [
              0.1111111111111111,
              "#46039f"
             ],
             [
              0.2222222222222222,
              "#7201a8"
             ],
             [
              0.3333333333333333,
              "#9c179e"
             ],
             [
              0.4444444444444444,
              "#bd3786"
             ],
             [
              0.5555555555555556,
              "#d8576b"
             ],
             [
              0.6666666666666666,
              "#ed7953"
             ],
             [
              0.7777777777777778,
              "#fb9f3a"
             ],
             [
              0.8888888888888888,
              "#fdca26"
             ],
             [
              1,
              "#f0f921"
             ]
            ],
            "type": "contour"
           }
          ],
          "contourcarpet": [
           {
            "colorbar": {
             "outlinewidth": 0,
             "ticks": ""
            },
            "type": "contourcarpet"
           }
          ],
          "heatmap": [
           {
            "colorbar": {
             "outlinewidth": 0,
             "ticks": ""
            },
            "colorscale": [
             [
              0,
              "#0d0887"
             ],
             [
              0.1111111111111111,
              "#46039f"
             ],
             [
              0.2222222222222222,
              "#7201a8"
             ],
             [
              0.3333333333333333,
              "#9c179e"
             ],
             [
              0.4444444444444444,
              "#bd3786"
             ],
             [
              0.5555555555555556,
              "#d8576b"
             ],
             [
              0.6666666666666666,
              "#ed7953"
             ],
             [
              0.7777777777777778,
              "#fb9f3a"
             ],
             [
              0.8888888888888888,
              "#fdca26"
             ],
             [
              1,
              "#f0f921"
             ]
            ],
            "type": "heatmap"
           }
          ],
          "heatmapgl": [
           {
            "colorbar": {
             "outlinewidth": 0,
             "ticks": ""
            },
            "colorscale": [
             [
              0,
              "#0d0887"
             ],
             [
              0.1111111111111111,
              "#46039f"
             ],
             [
              0.2222222222222222,
              "#7201a8"
             ],
             [
              0.3333333333333333,
              "#9c179e"
             ],
             [
              0.4444444444444444,
              "#bd3786"
             ],
             [
              0.5555555555555556,
              "#d8576b"
             ],
             [
              0.6666666666666666,
              "#ed7953"
             ],
             [
              0.7777777777777778,
              "#fb9f3a"
             ],
             [
              0.8888888888888888,
              "#fdca26"
             ],
             [
              1,
              "#f0f921"
             ]
            ],
            "type": "heatmapgl"
           }
          ],
          "histogram": [
           {
            "marker": {
             "pattern": {
              "fillmode": "overlay",
              "size": 10,
              "solidity": 0.2
             }
            },
            "type": "histogram"
           }
          ],
          "histogram2d": [
           {
            "colorbar": {
             "outlinewidth": 0,
             "ticks": ""
            },
            "colorscale": [
             [
              0,
              "#0d0887"
             ],
             [
              0.1111111111111111,
              "#46039f"
             ],
             [
              0.2222222222222222,
              "#7201a8"
             ],
             [
              0.3333333333333333,
              "#9c179e"
             ],
             [
              0.4444444444444444,
              "#bd3786"
             ],
             [
              0.5555555555555556,
              "#d8576b"
             ],
             [
              0.6666666666666666,
              "#ed7953"
             ],
             [
              0.7777777777777778,
              "#fb9f3a"
             ],
             [
              0.8888888888888888,
              "#fdca26"
             ],
             [
              1,
              "#f0f921"
             ]
            ],
            "type": "histogram2d"
           }
          ],
          "histogram2dcontour": [
           {
            "colorbar": {
             "outlinewidth": 0,
             "ticks": ""
            },
            "colorscale": [
             [
              0,
              "#0d0887"
             ],
             [
              0.1111111111111111,
              "#46039f"
             ],
             [
              0.2222222222222222,
              "#7201a8"
             ],
             [
              0.3333333333333333,
              "#9c179e"
             ],
             [
              0.4444444444444444,
              "#bd3786"
             ],
             [
              0.5555555555555556,
              "#d8576b"
             ],
             [
              0.6666666666666666,
              "#ed7953"
             ],
             [
              0.7777777777777778,
              "#fb9f3a"
             ],
             [
              0.8888888888888888,
              "#fdca26"
             ],
             [
              1,
              "#f0f921"
             ]
            ],
            "type": "histogram2dcontour"
           }
          ],
          "mesh3d": [
           {
            "colorbar": {
             "outlinewidth": 0,
             "ticks": ""
            },
            "type": "mesh3d"
           }
          ],
          "parcoords": [
           {
            "line": {
             "colorbar": {
              "outlinewidth": 0,
              "ticks": ""
             }
            },
            "type": "parcoords"
           }
          ],
          "pie": [
           {
            "automargin": true,
            "type": "pie"
           }
          ],
          "scatter": [
           {
            "fillpattern": {
             "fillmode": "overlay",
             "size": 10,
             "solidity": 0.2
            },
            "type": "scatter"
           }
          ],
          "scatter3d": [
           {
            "line": {
             "colorbar": {
              "outlinewidth": 0,
              "ticks": ""
             }
            },
            "marker": {
             "colorbar": {
              "outlinewidth": 0,
              "ticks": ""
             }
            },
            "type": "scatter3d"
           }
          ],
          "scattercarpet": [
           {
            "marker": {
             "colorbar": {
              "outlinewidth": 0,
              "ticks": ""
             }
            },
            "type": "scattercarpet"
           }
          ],
          "scattergeo": [
           {
            "marker": {
             "colorbar": {
              "outlinewidth": 0,
              "ticks": ""
             }
            },
            "type": "scattergeo"
           }
          ],
          "scattergl": [
           {
            "marker": {
             "colorbar": {
              "outlinewidth": 0,
              "ticks": ""
             }
            },
            "type": "scattergl"
           }
          ],
          "scattermapbox": [
           {
            "marker": {
             "colorbar": {
              "outlinewidth": 0,
              "ticks": ""
             }
            },
            "type": "scattermapbox"
           }
          ],
          "scatterpolar": [
           {
            "marker": {
             "colorbar": {
              "outlinewidth": 0,
              "ticks": ""
             }
            },
            "type": "scatterpolar"
           }
          ],
          "scatterpolargl": [
           {
            "marker": {
             "colorbar": {
              "outlinewidth": 0,
              "ticks": ""
             }
            },
            "type": "scatterpolargl"
           }
          ],
          "scatterternary": [
           {
            "marker": {
             "colorbar": {
              "outlinewidth": 0,
              "ticks": ""
             }
            },
            "type": "scatterternary"
           }
          ],
          "surface": [
           {
            "colorbar": {
             "outlinewidth": 0,
             "ticks": ""
            },
            "colorscale": [
             [
              0,
              "#0d0887"
             ],
             [
              0.1111111111111111,
              "#46039f"
             ],
             [
              0.2222222222222222,
              "#7201a8"
             ],
             [
              0.3333333333333333,
              "#9c179e"
             ],
             [
              0.4444444444444444,
              "#bd3786"
             ],
             [
              0.5555555555555556,
              "#d8576b"
             ],
             [
              0.6666666666666666,
              "#ed7953"
             ],
             [
              0.7777777777777778,
              "#fb9f3a"
             ],
             [
              0.8888888888888888,
              "#fdca26"
             ],
             [
              1,
              "#f0f921"
             ]
            ],
            "type": "surface"
           }
          ],
          "table": [
           {
            "cells": {
             "fill": {
              "color": "#EBF0F8"
             },
             "line": {
              "color": "white"
             }
            },
            "header": {
             "fill": {
              "color": "#C8D4E3"
             },
             "line": {
              "color": "white"
             }
            },
            "type": "table"
           }
          ]
         },
         "layout": {
          "annotationdefaults": {
           "arrowcolor": "#2a3f5f",
           "arrowhead": 0,
           "arrowwidth": 1
          },
          "autotypenumbers": "strict",
          "coloraxis": {
           "colorbar": {
            "outlinewidth": 0,
            "ticks": ""
           }
          },
          "colorscale": {
           "diverging": [
            [
             0,
             "#8e0152"
            ],
            [
             0.1,
             "#c51b7d"
            ],
            [
             0.2,
             "#de77ae"
            ],
            [
             0.3,
             "#f1b6da"
            ],
            [
             0.4,
             "#fde0ef"
            ],
            [
             0.5,
             "#f7f7f7"
            ],
            [
             0.6,
             "#e6f5d0"
            ],
            [
             0.7,
             "#b8e186"
            ],
            [
             0.8,
             "#7fbc41"
            ],
            [
             0.9,
             "#4d9221"
            ],
            [
             1,
             "#276419"
            ]
           ],
           "sequential": [
            [
             0,
             "#0d0887"
            ],
            [
             0.1111111111111111,
             "#46039f"
            ],
            [
             0.2222222222222222,
             "#7201a8"
            ],
            [
             0.3333333333333333,
             "#9c179e"
            ],
            [
             0.4444444444444444,
             "#bd3786"
            ],
            [
             0.5555555555555556,
             "#d8576b"
            ],
            [
             0.6666666666666666,
             "#ed7953"
            ],
            [
             0.7777777777777778,
             "#fb9f3a"
            ],
            [
             0.8888888888888888,
             "#fdca26"
            ],
            [
             1,
             "#f0f921"
            ]
           ],
           "sequentialminus": [
            [
             0,
             "#0d0887"
            ],
            [
             0.1111111111111111,
             "#46039f"
            ],
            [
             0.2222222222222222,
             "#7201a8"
            ],
            [
             0.3333333333333333,
             "#9c179e"
            ],
            [
             0.4444444444444444,
             "#bd3786"
            ],
            [
             0.5555555555555556,
             "#d8576b"
            ],
            [
             0.6666666666666666,
             "#ed7953"
            ],
            [
             0.7777777777777778,
             "#fb9f3a"
            ],
            [
             0.8888888888888888,
             "#fdca26"
            ],
            [
             1,
             "#f0f921"
            ]
           ]
          },
          "colorway": [
           "#636efa",
           "#EF553B",
           "#00cc96",
           "#ab63fa",
           "#FFA15A",
           "#19d3f3",
           "#FF6692",
           "#B6E880",
           "#FF97FF",
           "#FECB52"
          ],
          "font": {
           "color": "#2a3f5f"
          },
          "geo": {
           "bgcolor": "white",
           "lakecolor": "white",
           "landcolor": "#E5ECF6",
           "showlakes": true,
           "showland": true,
           "subunitcolor": "white"
          },
          "hoverlabel": {
           "align": "left"
          },
          "hovermode": "closest",
          "mapbox": {
           "style": "light"
          },
          "paper_bgcolor": "white",
          "plot_bgcolor": "#E5ECF6",
          "polar": {
           "angularaxis": {
            "gridcolor": "white",
            "linecolor": "white",
            "ticks": ""
           },
           "bgcolor": "#E5ECF6",
           "radialaxis": {
            "gridcolor": "white",
            "linecolor": "white",
            "ticks": ""
           }
          },
          "scene": {
           "xaxis": {
            "backgroundcolor": "#E5ECF6",
            "gridcolor": "white",
            "gridwidth": 2,
            "linecolor": "white",
            "showbackground": true,
            "ticks": "",
            "zerolinecolor": "white"
           },
           "yaxis": {
            "backgroundcolor": "#E5ECF6",
            "gridcolor": "white",
            "gridwidth": 2,
            "linecolor": "white",
            "showbackground": true,
            "ticks": "",
            "zerolinecolor": "white"
           },
           "zaxis": {
            "backgroundcolor": "#E5ECF6",
            "gridcolor": "white",
            "gridwidth": 2,
            "linecolor": "white",
            "showbackground": true,
            "ticks": "",
            "zerolinecolor": "white"
           }
          },
          "shapedefaults": {
           "line": {
            "color": "#2a3f5f"
           }
          },
          "ternary": {
           "aaxis": {
            "gridcolor": "white",
            "linecolor": "white",
            "ticks": ""
           },
           "baxis": {
            "gridcolor": "white",
            "linecolor": "white",
            "ticks": ""
           },
           "bgcolor": "#E5ECF6",
           "caxis": {
            "gridcolor": "white",
            "linecolor": "white",
            "ticks": ""
           }
          },
          "title": {
           "x": 0.05
          },
          "xaxis": {
           "automargin": true,
           "gridcolor": "white",
           "linecolor": "white",
           "ticks": "",
           "title": {
            "standoff": 15
           },
           "zerolinecolor": "white",
           "zerolinewidth": 2
          },
          "yaxis": {
           "automargin": true,
           "gridcolor": "white",
           "linecolor": "white",
           "ticks": "",
           "title": {
            "standoff": 15
           },
           "zerolinecolor": "white",
           "zerolinewidth": 2
          }
         }
        },
        "title": {
         "text": "Total Country Carbon Footprint"
        },
        "xaxis": {
         "anchor": "y",
         "domain": [
          0,
          1
         ],
         "title": {
          "text": "country"
         }
        },
        "yaxis": {
         "anchor": "x",
         "domain": [
          0,
          1
         ],
         "title": {
          "text": "total_country_footprint"
         }
        }
       }
      },
      "text/html": [
       "<div>                            <div id=\"8c3a5f01-817f-4ad2-b96e-a5f0ac5141e8\" class=\"plotly-graph-div\" style=\"height:525px; width:100%;\"></div>            <script type=\"text/javascript\">                require([\"plotly\"], function(Plotly) {                    window.PLOTLYENV=window.PLOTLYENV || {};                                    if (document.getElementById(\"8c3a5f01-817f-4ad2-b96e-a5f0ac5141e8\")) {                    Plotly.newPlot(                        \"8c3a5f01-817f-4ad2-b96e-a5f0ac5141e8\",                        [{\"alignmentgroup\":\"True\",\"hovertemplate\":\"country=%{x}<br>total_country_footprint=%{y}<extra></extra>\",\"legendgroup\":\"\",\"marker\":{\"color\":\"#636efa\",\"pattern\":{\"shape\":\"\"}},\"name\":\"\",\"offsetgroup\":\"\",\"orientation\":\"v\",\"showlegend\":false,\"textposition\":\"auto\",\"x\":[\"USA\",\"Japan\",\"France\",\"South Korea\",\"Switzerland\",\"United Kingdom\",\"Brazil\",\"Taiwan\",\"Spain\",\"Finland\",\"China\",\"Canada\",\"South Africa\",\"Ireland\",\"Belgium\",\"India\",\"Sweden\",\"Germany\",\"Australia\",\"Chile\",\"Lithuania\",\"Italy\",\"Netherlands\",\"Colombia\",\"Indonesia\",\"Malaysia\",\"Greece\",\"Luxembourg\"],\"xaxis\":\"x\",\"y\":[425979.0,513208.0,1594.0,137798.0,139.0,6566.0,167583.0,61408.0,9786127.0,20824.0,143.0,382.0,12312.0,5130.0,8.0,24574.0,4533.0,2251225.0,239.0,1555.0,0.0,18.0,70417.0,0.0,721.0,235.0,1.0,167000.0],\"yaxis\":\"y\",\"type\":\"bar\"}],                        {\"template\":{\"data\":{\"histogram2dcontour\":[{\"type\":\"histogram2dcontour\",\"colorbar\":{\"outlinewidth\":0,\"ticks\":\"\"},\"colorscale\":[[0.0,\"#0d0887\"],[0.1111111111111111,\"#46039f\"],[0.2222222222222222,\"#7201a8\"],[0.3333333333333333,\"#9c179e\"],[0.4444444444444444,\"#bd3786\"],[0.5555555555555556,\"#d8576b\"],[0.6666666666666666,\"#ed7953\"],[0.7777777777777778,\"#fb9f3a\"],[0.8888888888888888,\"#fdca26\"],[1.0,\"#f0f921\"]]}],\"choropleth\":[{\"type\":\"choropleth\",\"colorbar\":{\"outlinewidth\":0,\"ticks\":\"\"}}],\"histogram2d\":[{\"type\":\"histogram2d\",\"colorbar\":{\"outlinewidth\":0,\"ticks\":\"\"},\"colorscale\":[[0.0,\"#0d0887\"],[0.1111111111111111,\"#46039f\"],[0.2222222222222222,\"#7201a8\"],[0.3333333333333333,\"#9c179e\"],[0.4444444444444444,\"#bd3786\"],[0.5555555555555556,\"#d8576b\"],[0.6666666666666666,\"#ed7953\"],[0.7777777777777778,\"#fb9f3a\"],[0.8888888888888888,\"#fdca26\"],[1.0,\"#f0f921\"]]}],\"heatmap\":[{\"type\":\"heatmap\",\"colorbar\":{\"outlinewidth\":0,\"ticks\":\"\"},\"colorscale\":[[0.0,\"#0d0887\"],[0.1111111111111111,\"#46039f\"],[0.2222222222222222,\"#7201a8\"],[0.3333333333333333,\"#9c179e\"],[0.4444444444444444,\"#bd3786\"],[0.5555555555555556,\"#d8576b\"],[0.6666666666666666,\"#ed7953\"],[0.7777777777777778,\"#fb9f3a\"],[0.8888888888888888,\"#fdca26\"],[1.0,\"#f0f921\"]]}],\"heatmapgl\":[{\"type\":\"heatmapgl\",\"colorbar\":{\"outlinewidth\":0,\"ticks\":\"\"},\"colorscale\":[[0.0,\"#0d0887\"],[0.1111111111111111,\"#46039f\"],[0.2222222222222222,\"#7201a8\"],[0.3333333333333333,\"#9c179e\"],[0.4444444444444444,\"#bd3786\"],[0.5555555555555556,\"#d8576b\"],[0.6666666666666666,\"#ed7953\"],[0.7777777777777778,\"#fb9f3a\"],[0.8888888888888888,\"#fdca26\"],[1.0,\"#f0f921\"]]}],\"contourcarpet\":[{\"type\":\"contourcarpet\",\"colorbar\":{\"outlinewidth\":0,\"ticks\":\"\"}}],\"contour\":[{\"type\":\"contour\",\"colorbar\":{\"outlinewidth\":0,\"ticks\":\"\"},\"colorscale\":[[0.0,\"#0d0887\"],[0.1111111111111111,\"#46039f\"],[0.2222222222222222,\"#7201a8\"],[0.3333333333333333,\"#9c179e\"],[0.4444444444444444,\"#bd3786\"],[0.5555555555555556,\"#d8576b\"],[0.6666666666666666,\"#ed7953\"],[0.7777777777777778,\"#fb9f3a\"],[0.8888888888888888,\"#fdca26\"],[1.0,\"#f0f921\"]]}],\"surface\":[{\"type\":\"surface\",\"colorbar\":{\"outlinewidth\":0,\"ticks\":\"\"},\"colorscale\":[[0.0,\"#0d0887\"],[0.1111111111111111,\"#46039f\"],[0.2222222222222222,\"#7201a8\"],[0.3333333333333333,\"#9c179e\"],[0.4444444444444444,\"#bd3786\"],[0.5555555555555556,\"#d8576b\"],[0.6666666666666666,\"#ed7953\"],[0.7777777777777778,\"#fb9f3a\"],[0.8888888888888888,\"#fdca26\"],[1.0,\"#f0f921\"]]}],\"mesh3d\":[{\"type\":\"mesh3d\",\"colorbar\":{\"outlinewidth\":0,\"ticks\":\"\"}}],\"scatter\":[{\"fillpattern\":{\"fillmode\":\"overlay\",\"size\":10,\"solidity\":0.2},\"type\":\"scatter\"}],\"parcoords\":[{\"type\":\"parcoords\",\"line\":{\"colorbar\":{\"outlinewidth\":0,\"ticks\":\"\"}}}],\"scatterpolargl\":[{\"type\":\"scatterpolargl\",\"marker\":{\"colorbar\":{\"outlinewidth\":0,\"ticks\":\"\"}}}],\"bar\":[{\"error_x\":{\"color\":\"#2a3f5f\"},\"error_y\":{\"color\":\"#2a3f5f\"},\"marker\":{\"line\":{\"color\":\"#E5ECF6\",\"width\":0.5},\"pattern\":{\"fillmode\":\"overlay\",\"size\":10,\"solidity\":0.2}},\"type\":\"bar\"}],\"scattergeo\":[{\"type\":\"scattergeo\",\"marker\":{\"colorbar\":{\"outlinewidth\":0,\"ticks\":\"\"}}}],\"scatterpolar\":[{\"type\":\"scatterpolar\",\"marker\":{\"colorbar\":{\"outlinewidth\":0,\"ticks\":\"\"}}}],\"histogram\":[{\"marker\":{\"pattern\":{\"fillmode\":\"overlay\",\"size\":10,\"solidity\":0.2}},\"type\":\"histogram\"}],\"scattergl\":[{\"type\":\"scattergl\",\"marker\":{\"colorbar\":{\"outlinewidth\":0,\"ticks\":\"\"}}}],\"scatter3d\":[{\"type\":\"scatter3d\",\"line\":{\"colorbar\":{\"outlinewidth\":0,\"ticks\":\"\"}},\"marker\":{\"colorbar\":{\"outlinewidth\":0,\"ticks\":\"\"}}}],\"scattermapbox\":[{\"type\":\"scattermapbox\",\"marker\":{\"colorbar\":{\"outlinewidth\":0,\"ticks\":\"\"}}}],\"scatterternary\":[{\"type\":\"scatterternary\",\"marker\":{\"colorbar\":{\"outlinewidth\":0,\"ticks\":\"\"}}}],\"scattercarpet\":[{\"type\":\"scattercarpet\",\"marker\":{\"colorbar\":{\"outlinewidth\":0,\"ticks\":\"\"}}}],\"carpet\":[{\"aaxis\":{\"endlinecolor\":\"#2a3f5f\",\"gridcolor\":\"white\",\"linecolor\":\"white\",\"minorgridcolor\":\"white\",\"startlinecolor\":\"#2a3f5f\"},\"baxis\":{\"endlinecolor\":\"#2a3f5f\",\"gridcolor\":\"white\",\"linecolor\":\"white\",\"minorgridcolor\":\"white\",\"startlinecolor\":\"#2a3f5f\"},\"type\":\"carpet\"}],\"table\":[{\"cells\":{\"fill\":{\"color\":\"#EBF0F8\"},\"line\":{\"color\":\"white\"}},\"header\":{\"fill\":{\"color\":\"#C8D4E3\"},\"line\":{\"color\":\"white\"}},\"type\":\"table\"}],\"barpolar\":[{\"marker\":{\"line\":{\"color\":\"#E5ECF6\",\"width\":0.5},\"pattern\":{\"fillmode\":\"overlay\",\"size\":10,\"solidity\":0.2}},\"type\":\"barpolar\"}],\"pie\":[{\"automargin\":true,\"type\":\"pie\"}]},\"layout\":{\"autotypenumbers\":\"strict\",\"colorway\":[\"#636efa\",\"#EF553B\",\"#00cc96\",\"#ab63fa\",\"#FFA15A\",\"#19d3f3\",\"#FF6692\",\"#B6E880\",\"#FF97FF\",\"#FECB52\"],\"font\":{\"color\":\"#2a3f5f\"},\"hovermode\":\"closest\",\"hoverlabel\":{\"align\":\"left\"},\"paper_bgcolor\":\"white\",\"plot_bgcolor\":\"#E5ECF6\",\"polar\":{\"bgcolor\":\"#E5ECF6\",\"angularaxis\":{\"gridcolor\":\"white\",\"linecolor\":\"white\",\"ticks\":\"\"},\"radialaxis\":{\"gridcolor\":\"white\",\"linecolor\":\"white\",\"ticks\":\"\"}},\"ternary\":{\"bgcolor\":\"#E5ECF6\",\"aaxis\":{\"gridcolor\":\"white\",\"linecolor\":\"white\",\"ticks\":\"\"},\"baxis\":{\"gridcolor\":\"white\",\"linecolor\":\"white\",\"ticks\":\"\"},\"caxis\":{\"gridcolor\":\"white\",\"linecolor\":\"white\",\"ticks\":\"\"}},\"coloraxis\":{\"colorbar\":{\"outlinewidth\":0,\"ticks\":\"\"}},\"colorscale\":{\"sequential\":[[0.0,\"#0d0887\"],[0.1111111111111111,\"#46039f\"],[0.2222222222222222,\"#7201a8\"],[0.3333333333333333,\"#9c179e\"],[0.4444444444444444,\"#bd3786\"],[0.5555555555555556,\"#d8576b\"],[0.6666666666666666,\"#ed7953\"],[0.7777777777777778,\"#fb9f3a\"],[0.8888888888888888,\"#fdca26\"],[1.0,\"#f0f921\"]],\"sequentialminus\":[[0.0,\"#0d0887\"],[0.1111111111111111,\"#46039f\"],[0.2222222222222222,\"#7201a8\"],[0.3333333333333333,\"#9c179e\"],[0.4444444444444444,\"#bd3786\"],[0.5555555555555556,\"#d8576b\"],[0.6666666666666666,\"#ed7953\"],[0.7777777777777778,\"#fb9f3a\"],[0.8888888888888888,\"#fdca26\"],[1.0,\"#f0f921\"]],\"diverging\":[[0,\"#8e0152\"],[0.1,\"#c51b7d\"],[0.2,\"#de77ae\"],[0.3,\"#f1b6da\"],[0.4,\"#fde0ef\"],[0.5,\"#f7f7f7\"],[0.6,\"#e6f5d0\"],[0.7,\"#b8e186\"],[0.8,\"#7fbc41\"],[0.9,\"#4d9221\"],[1,\"#276419\"]]},\"xaxis\":{\"gridcolor\":\"white\",\"linecolor\":\"white\",\"ticks\":\"\",\"title\":{\"standoff\":15},\"zerolinecolor\":\"white\",\"automargin\":true,\"zerolinewidth\":2},\"yaxis\":{\"gridcolor\":\"white\",\"linecolor\":\"white\",\"ticks\":\"\",\"title\":{\"standoff\":15},\"zerolinecolor\":\"white\",\"automargin\":true,\"zerolinewidth\":2},\"scene\":{\"xaxis\":{\"backgroundcolor\":\"#E5ECF6\",\"gridcolor\":\"white\",\"linecolor\":\"white\",\"showbackground\":true,\"ticks\":\"\",\"zerolinecolor\":\"white\",\"gridwidth\":2},\"yaxis\":{\"backgroundcolor\":\"#E5ECF6\",\"gridcolor\":\"white\",\"linecolor\":\"white\",\"showbackground\":true,\"ticks\":\"\",\"zerolinecolor\":\"white\",\"gridwidth\":2},\"zaxis\":{\"backgroundcolor\":\"#E5ECF6\",\"gridcolor\":\"white\",\"linecolor\":\"white\",\"showbackground\":true,\"ticks\":\"\",\"zerolinecolor\":\"white\",\"gridwidth\":2}},\"shapedefaults\":{\"line\":{\"color\":\"#2a3f5f\"}},\"annotationdefaults\":{\"arrowcolor\":\"#2a3f5f\",\"arrowhead\":0,\"arrowwidth\":1},\"geo\":{\"bgcolor\":\"white\",\"landcolor\":\"#E5ECF6\",\"subunitcolor\":\"white\",\"showland\":true,\"showlakes\":true,\"lakecolor\":\"white\"},\"title\":{\"x\":0.05},\"mapbox\":{\"style\":\"light\"}}},\"xaxis\":{\"anchor\":\"y\",\"domain\":[0.0,1.0],\"title\":{\"text\":\"country\"}},\"yaxis\":{\"anchor\":\"x\",\"domain\":[0.0,1.0],\"title\":{\"text\":\"total_country_footprint\"}},\"legend\":{\"tracegroupgap\":0},\"title\":{\"text\":\"Total Country Carbon Footprint\"},\"barmode\":\"relative\"},                        {\"responsive\": true}                    ).then(function(){\n",
       "                            \n",
       "var gd = document.getElementById('8c3a5f01-817f-4ad2-b96e-a5f0ac5141e8');\n",
       "var x = new MutationObserver(function (mutations, observer) {{\n",
       "        var display = window.getComputedStyle(gd).display;\n",
       "        if (!display || display === 'none') {{\n",
       "            console.log([gd, 'removed!']);\n",
       "            Plotly.purge(gd);\n",
       "            observer.disconnect();\n",
       "        }}\n",
       "}});\n",
       "\n",
       "// Listen for the removal of the full notebook cells\n",
       "var notebookContainer = gd.closest('#notebook-container');\n",
       "if (notebookContainer) {{\n",
       "    x.observe(notebookContainer, {childList: true});\n",
       "}}\n",
       "\n",
       "// Listen for the clearing of the current output cell\n",
       "var outputEl = gd.closest('.output');\n",
       "if (outputEl) {{\n",
       "    x.observe(outputEl, {childList: true});\n",
       "}}\n",
       "\n",
       "                        })                };                });            </script>        </div>"
      ]
     },
     "metadata": {},
     "output_type": "display_data"
    }
   ],
   "source": [
    "# Plotting the above result \n",
    "fig1 = px.bar(df, x=\"country\", y=\"total_country_footprint\", orientation='v', title='Total Country Carbon Footprint')\n",
    "fig1.show()"
   ]
  },
  {
   "cell_type": "markdown",
   "id": "06c19b34",
   "metadata": {},
   "source": [
    "## 9: Does the graph above make sense?"
   ]
  },
  {
   "cell_type": "markdown",
   "id": "3a8338f4",
   "metadata": {},
   "source": [
    "Wow! Spain has a lot of emissions! Where do they come from? \n",
    "\n",
    "To finish our exploration, let's take a quick look at the underlying data as a gut-check."
   ]
  },
  {
   "cell_type": "markdown",
   "id": "e4501ed9",
   "metadata": {},
   "source": [
    "- select `company` and `carbon_footprint_pcf` for companies in Spain."
   ]
  },
  {
   "cell_type": "code",
   "execution_count": 65,
   "id": "6fcaec39",
   "metadata": {},
   "outputs": [
    {
     "data": {
      "text/html": [
       "<div>\n",
       "<style scoped>\n",
       "    .dataframe tbody tr th:only-of-type {\n",
       "        vertical-align: middle;\n",
       "    }\n",
       "\n",
       "    .dataframe tbody tr th {\n",
       "        vertical-align: top;\n",
       "    }\n",
       "\n",
       "    .dataframe thead th {\n",
       "        text-align: right;\n",
       "    }\n",
       "</style>\n",
       "<table border=\"1\" class=\"dataframe\">\n",
       "  <thead>\n",
       "    <tr style=\"text-align: right;\">\n",
       "      <th></th>\n",
       "      <th>company</th>\n",
       "      <th>carbon_footprint_pcf</th>\n",
       "    </tr>\n",
       "  </thead>\n",
       "  <tbody>\n",
       "    <tr>\n",
       "      <th>0</th>\n",
       "      <td>Gamesa Corporación Tecnológica, S.A.</td>\n",
       "      <td>3718044.0</td>\n",
       "    </tr>\n",
       "    <tr>\n",
       "      <th>1</th>\n",
       "      <td>Gamesa Corporación Tecnológica, S.A.</td>\n",
       "      <td>3276187.0</td>\n",
       "    </tr>\n",
       "    <tr>\n",
       "      <th>2</th>\n",
       "      <td>Gamesa Corporación Tecnológica, S.A.</td>\n",
       "      <td>1532608.0</td>\n",
       "    </tr>\n",
       "    <tr>\n",
       "      <th>3</th>\n",
       "      <td>Gamesa Corporación Tecnológica, S.A.</td>\n",
       "      <td>1251625.0</td>\n",
       "    </tr>\n",
       "    <tr>\n",
       "      <th>4</th>\n",
       "      <td>Compañía Española de Petróleos, S.A.U. CEPSA</td>\n",
       "      <td>6109.0</td>\n",
       "    </tr>\n",
       "    <tr>\n",
       "      <th>5</th>\n",
       "      <td>Compañía Española de Petróleos, S.A.U. CEPSA</td>\n",
       "      <td>890.0</td>\n",
       "    </tr>\n",
       "    <tr>\n",
       "      <th>6</th>\n",
       "      <td>Crimidesa</td>\n",
       "      <td>180.0</td>\n",
       "    </tr>\n",
       "    <tr>\n",
       "      <th>7</th>\n",
       "      <td>Agraz</td>\n",
       "      <td>156.0</td>\n",
       "    </tr>\n",
       "    <tr>\n",
       "      <th>8</th>\n",
       "      <td>Agraz</td>\n",
       "      <td>156.0</td>\n",
       "    </tr>\n",
       "    <tr>\n",
       "      <th>9</th>\n",
       "      <td>Crimidesa</td>\n",
       "      <td>140.0</td>\n",
       "    </tr>\n",
       "    <tr>\n",
       "      <th>10</th>\n",
       "      <td>Agraz</td>\n",
       "      <td>16.0</td>\n",
       "    </tr>\n",
       "    <tr>\n",
       "      <th>11</th>\n",
       "      <td>Agraz</td>\n",
       "      <td>13.0</td>\n",
       "    </tr>\n",
       "    <tr>\n",
       "      <th>12</th>\n",
       "      <td>Miquel Y Costas</td>\n",
       "      <td>3.0</td>\n",
       "    </tr>\n",
       "  </tbody>\n",
       "</table>\n",
       "</div>"
      ],
      "text/plain": [
       "                                         company  carbon_footprint_pcf\n",
       "0           Gamesa Corporación Tecnológica, S.A.             3718044.0\n",
       "1           Gamesa Corporación Tecnológica, S.A.             3276187.0\n",
       "2           Gamesa Corporación Tecnológica, S.A.             1532608.0\n",
       "3           Gamesa Corporación Tecnológica, S.A.             1251625.0\n",
       "4   Compañía Española de Petróleos, S.A.U. CEPSA                6109.0\n",
       "5   Compañía Española de Petróleos, S.A.U. CEPSA                 890.0\n",
       "6                                      Crimidesa                 180.0\n",
       "7                                          Agraz                 156.0\n",
       "8                                          Agraz                 156.0\n",
       "9                                      Crimidesa                 140.0\n",
       "10                                         Agraz                  16.0\n",
       "11                                         Agraz                  13.0\n",
       "12                               Miquel Y Costas                   3.0"
      ]
     },
     "execution_count": 65,
     "metadata": {},
     "output_type": "execute_result"
    }
   ],
   "source": [
    "query = '''SELECT company, carbon_footprint_pcf\n",
    "FROM carbon_em\n",
    "WHERE country = 'Spain'\n",
    "ORDER BY carbon_footprint_pcf DESC;\n",
    "'''\n",
    "\n",
    "# Put it all to a data frame\n",
    "df = pd.read_sql(query, con = db)\n",
    "df"
   ]
  },
  {
   "cell_type": "markdown",
   "id": "2dfe703f",
   "metadata": {},
   "source": [
    "Gamesa Corporación Tecnológica is actually a renewable energy company specializing in wind power!\n",
    "check them out here https://www.siemensgamesa.com/en-int.\n",
    "\n",
    "Why might it have such high emissions? Discovering these twists in the data is very important.\n"
   ]
  },
  {
   "cell_type": "code",
   "execution_count": null,
   "id": "ec3feec9",
   "metadata": {},
   "outputs": [],
   "source": []
  }
 ],
 "metadata": {
  "kernelspec": {
   "display_name": "Python 3",
   "language": "python",
   "name": "python3"
  },
  "language_info": {
   "codemirror_mode": {
    "name": "ipython",
    "version": 3
   },
   "file_extension": ".py",
   "mimetype": "text/x-python",
   "name": "python",
   "nbconvert_exporter": "python",
   "pygments_lexer": "ipython3",
   "version": "3.8.8"
  }
 },
 "nbformat": 4,
 "nbformat_minor": 5
}
